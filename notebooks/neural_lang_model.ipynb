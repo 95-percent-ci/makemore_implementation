{
 "cells": [
  {
   "cell_type": "code",
   "execution_count": 1,
   "metadata": {},
   "outputs": [],
   "source": [
    "import torch\n",
    "import torch.nn.functional as F\n",
    "import matplotlib.pyplot as plt \n",
    "%matplotlib inline"
   ]
  },
  {
   "cell_type": "code",
   "execution_count": 54,
   "metadata": {},
   "outputs": [],
   "source": [
    "import numpy as np"
   ]
  },
  {
   "cell_type": "code",
   "execution_count": 2,
   "metadata": {},
   "outputs": [],
   "source": [
    "import os\n",
    "os.chdir(\"../\")"
   ]
  },
  {
   "cell_type": "code",
   "execution_count": 53,
   "metadata": {},
   "outputs": [],
   "source": [
    "import copy"
   ]
  },
  {
   "cell_type": "code",
   "execution_count": 3,
   "metadata": {},
   "outputs": [
    {
     "data": {
      "text/plain": [
       "['emma', 'olivia', 'ava', 'isabella', 'sophia', 'charlotte', 'mia', 'amelia']"
      ]
     },
     "execution_count": 3,
     "metadata": {},
     "output_type": "execute_result"
    }
   ],
   "source": [
    "words = open('data/names.txt', 'r').read().splitlines()\n",
    "words[:8]"
   ]
  },
  {
   "cell_type": "code",
   "execution_count": 4,
   "metadata": {},
   "outputs": [
    {
     "data": {
      "text/plain": [
       "32033"
      ]
     },
     "execution_count": 4,
     "metadata": {},
     "output_type": "execute_result"
    }
   ],
   "source": [
    "len(words)"
   ]
  },
  {
   "cell_type": "code",
   "execution_count": 5,
   "metadata": {},
   "outputs": [],
   "source": [
    "## building vocab of chars & mapping to/from integers\n",
    "\n",
    "chars = sorted(list(set(''.join(words))))\n",
    "stoi = {s:i + 1 for i,s in enumerate(chars)}\n",
    "stoi[\".\"] = 0\n",
    "itos = {i:s for s,i in stoi.items()}"
   ]
  },
  {
   "cell_type": "code",
   "execution_count": 6,
   "metadata": {},
   "outputs": [
    {
     "name": "stdout",
     "output_type": "stream",
     "text": [
      "{1: 'a', 2: 'b', 3: 'c', 4: 'd', 5: 'e', 6: 'f', 7: 'g', 8: 'h', 9: 'i', 10: 'j', 11: 'k', 12: 'l', 13: 'm', 14: 'n', 15: 'o', 16: 'p', 17: 'q', 18: 'r', 19: 's', 20: 't', 21: 'u', 22: 'v', 23: 'w', 24: 'x', 25: 'y', 26: 'z', 0: '.'}\n"
     ]
    }
   ],
   "source": [
    "print(itos)"
   ]
  },
  {
   "cell_type": "code",
   "execution_count": 7,
   "metadata": {},
   "outputs": [
    {
     "name": "stdout",
     "output_type": "stream",
     "text": [
      "emma\n",
      "... ----> e\n",
      "..e ----> m\n",
      ".em ----> m\n",
      "emm ----> a\n",
      "mma ----> .\n",
      "olivia\n",
      "... ----> o\n",
      "..o ----> l\n",
      ".ol ----> i\n",
      "oli ----> v\n",
      "liv ----> i\n",
      "ivi ----> a\n",
      "via ----> .\n",
      "ava\n",
      "... ----> a\n",
      "..a ----> v\n",
      ".av ----> a\n",
      "ava ----> .\n",
      "isabella\n",
      "... ----> i\n",
      "..i ----> s\n",
      ".is ----> a\n",
      "isa ----> b\n",
      "sab ----> e\n",
      "abe ----> l\n",
      "bel ----> l\n",
      "ell ----> a\n",
      "lla ----> .\n",
      "sophia\n",
      "... ----> s\n",
      "..s ----> o\n",
      ".so ----> p\n",
      "sop ----> h\n",
      "oph ----> i\n",
      "phi ----> a\n",
      "hia ----> .\n"
     ]
    }
   ],
   "source": [
    "## Building the data set\n",
    "\n",
    "block_size = 3 ## context length: How many chars to take to predict the next one?\n",
    "\n",
    "X, Y = [], []\n",
    "\n",
    "for w in words[0:5]:\n",
    "    print(w)\n",
    "    context = [0] * block_size # -> 1st Iter [0, 0, 0]\n",
    "    \n",
    "    for ch in w + \".\":\n",
    "\n",
    "        ix = stoi[ch] ## Encoded values of character\n",
    "        \n",
    "        X.append(context) ## 1st Iter [0, 0, 0]\n",
    "        Y.append(ix) ## 1st Iter [itos[ch]]\n",
    "\n",
    "        print(''.join(itos[i] for i in context), '---->', itos[ix])\n",
    "        context = context[1:] + [ix] ## Rolling Operation\n",
    "\n",
    "X = torch.tensor(X)\n",
    "Y = torch.tensor(Y)"
   ]
  },
  {
   "cell_type": "markdown",
   "metadata": {},
   "source": [
    "#### Understanding Generated X Shape & Y Shape\n",
    "\n",
    "1. X shape is (N, Context Size). Where N is number of input samples generated while creating X, Y Pairs and Context Size is defined above\n",
    "\n",
    "2. Y Shape is (N). For each Input Sample, it contains the next character Output"
   ]
  },
  {
   "cell_type": "code",
   "execution_count": 10,
   "metadata": {},
   "outputs": [
    {
     "data": {
      "text/plain": [
       "(torch.Size([32, 3]), torch.int64)"
      ]
     },
     "execution_count": 10,
     "metadata": {},
     "output_type": "execute_result"
    }
   ],
   "source": [
    "X.shape, X.dtype, "
   ]
  },
  {
   "cell_type": "code",
   "execution_count": 9,
   "metadata": {},
   "outputs": [
    {
     "data": {
      "text/plain": [
       "(torch.Size([32]), torch.int64)"
      ]
     },
     "execution_count": 9,
     "metadata": {},
     "output_type": "execute_result"
    }
   ],
   "source": [
    "Y.shape, Y.dtype"
   ]
  },
  {
   "cell_type": "markdown",
   "metadata": {},
   "source": [
    "## Projecting characters into 2 Dimensional Space (Embedding Look Up Table)\n",
    "\n",
    "Number of Chars: 27\n",
    "\n",
    "Dimensions: 2"
   ]
  },
  {
   "cell_type": "code",
   "execution_count": 15,
   "metadata": {},
   "outputs": [],
   "source": [
    "C = torch.randn((27, 2))"
   ]
  },
  {
   "cell_type": "markdown",
   "metadata": {},
   "source": [
    "### Accessing entries of Look-Up Matrix C"
   ]
  },
  {
   "cell_type": "code",
   "execution_count": 16,
   "metadata": {},
   "outputs": [
    {
     "data": {
      "text/plain": [
       "tensor([-0.8031,  1.2199])"
      ]
     },
     "execution_count": 16,
     "metadata": {},
     "output_type": "execute_result"
    }
   ],
   "source": [
    "## For 5 encoded char \"e\"\n",
    "## itos[5]\n",
    "C[5]"
   ]
  },
  {
   "cell_type": "code",
   "execution_count": 17,
   "metadata": {},
   "outputs": [
    {
     "data": {
      "text/plain": [
       "tensor([ 0.4497, -0.8323])"
      ]
     },
     "execution_count": 17,
     "metadata": {},
     "output_type": "execute_result"
    }
   ],
   "source": [
    "## For 0 encoded char \"a\"\n",
    "## itos[5]\n",
    "C[0]"
   ]
  },
  {
   "cell_type": "code",
   "execution_count": 18,
   "metadata": {},
   "outputs": [
    {
     "data": {
      "text/plain": [
       "tensor([-0.8031,  1.2199])"
      ]
     },
     "execution_count": 18,
     "metadata": {},
     "output_type": "execute_result"
    }
   ],
   "source": [
    "## Is there a better way to index Look Up Matrix?\n",
    "## Yes One Hot Encoding\n",
    "F.one_hot(torch.tensor(5), num_classes=27).float() @ C"
   ]
  },
  {
   "cell_type": "code",
   "execution_count": null,
   "metadata": {},
   "outputs": [
    {
     "data": {
      "text/plain": [
       "tensor([[-0.8031,  1.2199],\n",
       "        [ 0.4497, -0.8323]])"
      ]
     },
     "execution_count": 19,
     "metadata": {},
     "output_type": "execute_result"
    }
   ],
   "source": [
    "## First Layer of Neural Language Model is essentially, look up into Embedding matrices for Provide Input\n",
    "\n",
    "### Getting values for 5th Row & 0th Row simultaneously\n",
    "C[[5, 0]]"
   ]
  },
  {
   "cell_type": "code",
   "execution_count": 30,
   "metadata": {},
   "outputs": [
    {
     "data": {
      "text/plain": [
       "tensor([[-0.8031,  1.2199],\n",
       "        [ 0.1439,  0.5460],\n",
       "        [-0.9979,  0.2940],\n",
       "        [-0.9979,  0.2940],\n",
       "        [-0.9979,  0.2940]])"
      ]
     },
     "execution_count": 30,
     "metadata": {},
     "output_type": "execute_result"
    }
   ],
   "source": [
    "### Getting values for 5th Row , 6th Row & 7th Row ,7th Row, 7th Row simultaneously\n",
    "\n",
    "C[torch.tensor([5, 6, 7, 7, 7])]"
   ]
  },
  {
   "cell_type": "code",
   "execution_count": 23,
   "metadata": {},
   "outputs": [
    {
     "data": {
      "text/plain": [
       "(torch.Size([32, 3]), torch.int64)"
      ]
     },
     "execution_count": 23,
     "metadata": {},
     "output_type": "execute_result"
    }
   ],
   "source": [
    "X.shape, X.dtype, "
   ]
  },
  {
   "cell_type": "markdown",
   "metadata": {},
   "source": [
    "### How can I get Embedding Look Up entries for X Input `[N, Context Size]`"
   ]
  },
  {
   "cell_type": "code",
   "execution_count": 26,
   "metadata": {},
   "outputs": [],
   "source": [
    "## Slicing X Tensor for Single word emma (1st name in data)\n",
    "X_single_name = X[0:4, :]"
   ]
  },
  {
   "cell_type": "code",
   "execution_count": 27,
   "metadata": {},
   "outputs": [
    {
     "data": {
      "text/plain": [
       "tensor([[ 0,  0,  0],\n",
       "        [ 0,  0,  5],\n",
       "        [ 0,  5, 13],\n",
       "        [ 5, 13, 13]])"
      ]
     },
     "execution_count": 27,
     "metadata": {},
     "output_type": "execute_result"
    }
   ],
   "source": [
    "X_single_name"
   ]
  },
  {
   "cell_type": "code",
   "execution_count": null,
   "metadata": {},
   "outputs": [
    {
     "data": {
      "text/plain": [
       "(tensor([[[ 0.4497, -0.8323],\n",
       "          [ 0.4497, -0.8323],\n",
       "          [ 0.4497, -0.8323]],\n",
       " \n",
       "         [[ 0.4497, -0.8323],\n",
       "          [ 0.4497, -0.8323],\n",
       "          [-0.8031,  1.2199]],\n",
       " \n",
       "         [[ 0.4497, -0.8323],\n",
       "          [-0.8031,  1.2199],\n",
       "          [-0.4271, -1.3293]],\n",
       " \n",
       "         [[-0.8031,  1.2199],\n",
       "          [-0.4271, -1.3293],\n",
       "          [-0.4271, -1.3293]]]),\n",
       " torch.Size([4, 3, 2]))"
      ]
     },
     "execution_count": 33,
     "metadata": {},
     "output_type": "execute_result"
    }
   ],
   "source": [
    "## In each row of X\n",
    "## Number of encoded chars == context sizr\n",
    "## For each encodeed chars -> (, 2) shape Look-Up Embedding Table output\n",
    "\n",
    "## End Shape would look like\n",
    "## (N, Context_Size, Embedding Dim)\n",
    "C[X_single_name], C[X_single_name].shape"
   ]
  },
  {
   "cell_type": "code",
   "execution_count": 34,
   "metadata": {},
   "outputs": [
    {
     "data": {
      "text/plain": [
       "tensor(1)"
      ]
     },
     "execution_count": 34,
     "metadata": {},
     "output_type": "execute_result"
    }
   ],
   "source": [
    "X[13, 2]"
   ]
  },
  {
   "cell_type": "code",
   "execution_count": 35,
   "metadata": {},
   "outputs": [
    {
     "data": {
      "text/plain": [
       "tensor([-0.3034,  1.1382])"
      ]
     },
     "execution_count": 35,
     "metadata": {},
     "output_type": "execute_result"
    }
   ],
   "source": [
    "C[X][13,2]"
   ]
  },
  {
   "cell_type": "code",
   "execution_count": 36,
   "metadata": {},
   "outputs": [
    {
     "data": {
      "text/plain": [
       "tensor([-0.3034,  1.1382])"
      ]
     },
     "execution_count": 36,
     "metadata": {},
     "output_type": "execute_result"
    }
   ],
   "source": [
    "C[1]"
   ]
  },
  {
   "cell_type": "code",
   "execution_count": 37,
   "metadata": {},
   "outputs": [
    {
     "data": {
      "text/plain": [
       "torch.Size([32, 3, 2])"
      ]
     },
     "execution_count": 37,
     "metadata": {},
     "output_type": "execute_result"
    }
   ],
   "source": [
    "## We can embedd directly by passing X into C and it should work!\n",
    "\n",
    "emb = C[X]\n",
    "emb.shape"
   ]
  },
  {
   "cell_type": "code",
   "execution_count": 38,
   "metadata": {},
   "outputs": [],
   "source": [
    "### Constructing Hidden Layer\n",
    "\n",
    "W1 = torch.randn((6, 100))\n",
    "b1 = torch.randn(100)"
   ]
  },
  {
   "cell_type": "code",
   "execution_count": null,
   "metadata": {},
   "outputs": [],
   "source": [
    "### Embedding which is input to Hidden Layer has shape of [N, context, embedding dimension] -> (32, 3, 2)\n",
    "### While Hidden layer neuron shape is (context * embedding dimension, hidden_dim) -> (6, 100)\n",
    "\n",
    "### Last 2 dimensions of embedding layer needs to combined together so that shape matches for matmul\n",
    "\n",
    "### One way to solve is to use torch cat function\n",
    "\n",
    "torch.cat([emb[:, 0, :], emb[:, 1, :], emb[:, 2, :]], dim=1).shape"
   ]
  },
  {
   "cell_type": "code",
   "execution_count": 48,
   "metadata": {},
   "outputs": [
    {
     "data": {
      "text/plain": [
       "torch.Size([32, 6])"
      ]
     },
     "execution_count": 48,
     "metadata": {},
     "output_type": "execute_result"
    }
   ],
   "source": [
    "torch.cat([emb[:, 0, :], emb[:, 1, :], emb[:, 2, :]], dim=1).shape"
   ]
  },
  {
   "cell_type": "code",
   "execution_count": 61,
   "metadata": {},
   "outputs": [
    {
     "data": {
      "text/plain": [
       "tensor([[ 0.4497, -0.8323,  0.4497, -0.8323,  0.4497, -0.8323],\n",
       "        [ 0.4497, -0.8323,  0.4497, -0.8323, -0.8031,  1.2199],\n",
       "        [ 0.4497, -0.8323, -0.8031,  1.2199, -0.4271, -1.3293],\n",
       "        [-0.8031,  1.2199, -0.4271, -1.3293, -0.4271, -1.3293],\n",
       "        [-0.4271, -1.3293, -0.4271, -1.3293, -0.3034,  1.1382],\n",
       "        [ 0.4497, -0.8323,  0.4497, -0.8323,  0.4497, -0.8323],\n",
       "        [ 0.4497, -0.8323,  0.4497, -0.8323, -0.8305, -0.5323],\n",
       "        [ 0.4497, -0.8323, -0.8305, -0.5323, -0.4855, -0.1252],\n",
       "        [-0.8305, -0.5323, -0.4855, -0.1252, -1.9454,  1.0713],\n",
       "        [-0.4855, -0.1252, -1.9454,  1.0713, -0.5646, -0.7614],\n",
       "        [-1.9454,  1.0713, -0.5646, -0.7614, -1.9454,  1.0713],\n",
       "        [-0.5646, -0.7614, -1.9454,  1.0713, -0.3034,  1.1382],\n",
       "        [ 0.4497, -0.8323,  0.4497, -0.8323,  0.4497, -0.8323],\n",
       "        [ 0.4497, -0.8323,  0.4497, -0.8323, -0.3034,  1.1382],\n",
       "        [ 0.4497, -0.8323, -0.3034,  1.1382, -0.5646, -0.7614],\n",
       "        [-0.3034,  1.1382, -0.5646, -0.7614, -0.3034,  1.1382],\n",
       "        [ 0.4497, -0.8323,  0.4497, -0.8323,  0.4497, -0.8323],\n",
       "        [ 0.4497, -0.8323,  0.4497, -0.8323, -1.9454,  1.0713],\n",
       "        [ 0.4497, -0.8323, -1.9454,  1.0713,  0.3194, -0.4130],\n",
       "        [-1.9454,  1.0713,  0.3194, -0.4130, -0.3034,  1.1382],\n",
       "        [ 0.3194, -0.4130, -0.3034,  1.1382, -0.4574,  0.8921],\n",
       "        [-0.3034,  1.1382, -0.4574,  0.8921, -0.8031,  1.2199],\n",
       "        [-0.4574,  0.8921, -0.8031,  1.2199, -0.4855, -0.1252],\n",
       "        [-0.8031,  1.2199, -0.4855, -0.1252, -0.4855, -0.1252],\n",
       "        [-0.4855, -0.1252, -0.4855, -0.1252, -0.3034,  1.1382],\n",
       "        [ 0.4497, -0.8323,  0.4497, -0.8323,  0.4497, -0.8323],\n",
       "        [ 0.4497, -0.8323,  0.4497, -0.8323,  0.3194, -0.4130],\n",
       "        [ 0.4497, -0.8323,  0.3194, -0.4130, -0.8305, -0.5323],\n",
       "        [ 0.3194, -0.4130, -0.8305, -0.5323, -1.5675, -1.6273],\n",
       "        [-0.8305, -0.5323, -1.5675, -1.6273,  0.0429,  0.2427],\n",
       "        [-1.5675, -1.6273,  0.0429,  0.2427, -1.9454,  1.0713],\n",
       "        [ 0.0429,  0.2427, -1.9454,  1.0713, -0.3034,  1.1382]])"
      ]
     },
     "execution_count": 61,
     "metadata": {},
     "output_type": "execute_result"
    }
   ],
   "source": [
    "### More generic way would be use torch unbind and then use torch cat\n",
    "### Unbinding is done on dimension where context size is defined\n",
    "\n",
    "torch.cat(torch.unbind(emb, dim=1), dim=1)"
   ]
  },
  {
   "cell_type": "code",
   "execution_count": 57,
   "metadata": {},
   "outputs": [],
   "source": [
    "Input_Embedding_Proj = copy.deepcopy(C[X])"
   ]
  },
  {
   "cell_type": "code",
   "execution_count": 59,
   "metadata": {},
   "outputs": [
    {
     "data": {
      "text/plain": [
       "torch.Size([32, 3, 2])"
      ]
     },
     "execution_count": 59,
     "metadata": {},
     "output_type": "execute_result"
    }
   ],
   "source": [
    "Input_Embedding_Proj.shape"
   ]
  },
  {
   "cell_type": "code",
   "execution_count": 60,
   "metadata": {},
   "outputs": [
    {
     "data": {
      "text/plain": [
       "tensor([[ 0.4497, -0.8323,  0.4497, -0.8323,  0.4497, -0.8323],\n",
       "        [ 0.4497, -0.8323,  0.4497, -0.8323, -0.8031,  1.2199],\n",
       "        [ 0.4497, -0.8323, -0.8031,  1.2199, -0.4271, -1.3293],\n",
       "        [-0.8031,  1.2199, -0.4271, -1.3293, -0.4271, -1.3293],\n",
       "        [-0.4271, -1.3293, -0.4271, -1.3293, -0.3034,  1.1382],\n",
       "        [ 0.4497, -0.8323,  0.4497, -0.8323,  0.4497, -0.8323],\n",
       "        [ 0.4497, -0.8323,  0.4497, -0.8323, -0.8305, -0.5323],\n",
       "        [ 0.4497, -0.8323, -0.8305, -0.5323, -0.4855, -0.1252],\n",
       "        [-0.8305, -0.5323, -0.4855, -0.1252, -1.9454,  1.0713],\n",
       "        [-0.4855, -0.1252, -1.9454,  1.0713, -0.5646, -0.7614],\n",
       "        [-1.9454,  1.0713, -0.5646, -0.7614, -1.9454,  1.0713],\n",
       "        [-0.5646, -0.7614, -1.9454,  1.0713, -0.3034,  1.1382],\n",
       "        [ 0.4497, -0.8323,  0.4497, -0.8323,  0.4497, -0.8323],\n",
       "        [ 0.4497, -0.8323,  0.4497, -0.8323, -0.3034,  1.1382],\n",
       "        [ 0.4497, -0.8323, -0.3034,  1.1382, -0.5646, -0.7614],\n",
       "        [-0.3034,  1.1382, -0.5646, -0.7614, -0.3034,  1.1382],\n",
       "        [ 0.4497, -0.8323,  0.4497, -0.8323,  0.4497, -0.8323],\n",
       "        [ 0.4497, -0.8323,  0.4497, -0.8323, -1.9454,  1.0713],\n",
       "        [ 0.4497, -0.8323, -1.9454,  1.0713,  0.3194, -0.4130],\n",
       "        [-1.9454,  1.0713,  0.3194, -0.4130, -0.3034,  1.1382],\n",
       "        [ 0.3194, -0.4130, -0.3034,  1.1382, -0.4574,  0.8921],\n",
       "        [-0.3034,  1.1382, -0.4574,  0.8921, -0.8031,  1.2199],\n",
       "        [-0.4574,  0.8921, -0.8031,  1.2199, -0.4855, -0.1252],\n",
       "        [-0.8031,  1.2199, -0.4855, -0.1252, -0.4855, -0.1252],\n",
       "        [-0.4855, -0.1252, -0.4855, -0.1252, -0.3034,  1.1382],\n",
       "        [ 0.4497, -0.8323,  0.4497, -0.8323,  0.4497, -0.8323],\n",
       "        [ 0.4497, -0.8323,  0.4497, -0.8323,  0.3194, -0.4130],\n",
       "        [ 0.4497, -0.8323,  0.3194, -0.4130, -0.8305, -0.5323],\n",
       "        [ 0.3194, -0.4130, -0.8305, -0.5323, -1.5675, -1.6273],\n",
       "        [-0.8305, -0.5323, -1.5675, -1.6273,  0.0429,  0.2427],\n",
       "        [-1.5675, -1.6273,  0.0429,  0.2427, -1.9454,  1.0713],\n",
       "        [ 0.0429,  0.2427, -1.9454,  1.0713, -0.3034,  1.1382]])"
      ]
     },
     "execution_count": 60,
     "metadata": {},
     "output_type": "execute_result"
    }
   ],
   "source": [
    "Input_Embedding_Proj.reshape(shape=(32, 6))"
   ]
  },
  {
   "cell_type": "code",
   "execution_count": null,
   "metadata": {},
   "outputs": [],
   "source": []
  }
 ],
 "metadata": {
  "kernelspec": {
   "display_name": ".venv",
   "language": "python",
   "name": "python3"
  },
  "language_info": {
   "codemirror_mode": {
    "name": "ipython",
    "version": 3
   },
   "file_extension": ".py",
   "mimetype": "text/x-python",
   "name": "python",
   "nbconvert_exporter": "python",
   "pygments_lexer": "ipython3",
   "version": "3.13.1"
  }
 },
 "nbformat": 4,
 "nbformat_minor": 2
}
