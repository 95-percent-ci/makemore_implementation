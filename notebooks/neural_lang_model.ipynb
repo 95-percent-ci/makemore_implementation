{
 "cells": [
  {
   "cell_type": "code",
   "execution_count": 1,
   "metadata": {},
   "outputs": [],
   "source": [
    "import torch\n",
    "import torch.nn.functional as F\n",
    "import matplotlib.pyplot as plt \n",
    "%matplotlib inline"
   ]
  },
  {
   "cell_type": "code",
   "execution_count": 2,
   "metadata": {},
   "outputs": [],
   "source": [
    "import random\n",
    "random.seed(42)"
   ]
  },
  {
   "cell_type": "code",
   "execution_count": 3,
   "metadata": {},
   "outputs": [],
   "source": [
    "import numpy as np"
   ]
  },
  {
   "cell_type": "code",
   "execution_count": 4,
   "metadata": {},
   "outputs": [],
   "source": [
    "import os\n",
    "os.chdir(\"../\")"
   ]
  },
  {
   "cell_type": "code",
   "execution_count": 5,
   "metadata": {},
   "outputs": [],
   "source": [
    "import copy"
   ]
  },
  {
   "cell_type": "code",
   "execution_count": 6,
   "metadata": {},
   "outputs": [
    {
     "data": {
      "text/plain": [
       "['emma', 'olivia', 'ava', 'isabella', 'sophia', 'charlotte', 'mia', 'amelia']"
      ]
     },
     "execution_count": 6,
     "metadata": {},
     "output_type": "execute_result"
    }
   ],
   "source": [
    "words = open('data/names.txt', 'r').read().splitlines()\n",
    "words[:8]"
   ]
  },
  {
   "cell_type": "code",
   "execution_count": 7,
   "metadata": {},
   "outputs": [
    {
     "data": {
      "text/plain": [
       "32033"
      ]
     },
     "execution_count": 7,
     "metadata": {},
     "output_type": "execute_result"
    }
   ],
   "source": [
    "len(words)"
   ]
  },
  {
   "cell_type": "code",
   "execution_count": 8,
   "metadata": {},
   "outputs": [],
   "source": [
    "## building vocab of chars & mapping to/from integers\n",
    "\n",
    "chars = sorted(list(set(''.join(words))))\n",
    "stoi = {s:i + 1 for i,s in enumerate(chars)}\n",
    "stoi[\".\"] = 0\n",
    "itos = {i:s for s,i in stoi.items()}"
   ]
  },
  {
   "cell_type": "code",
   "execution_count": 9,
   "metadata": {},
   "outputs": [
    {
     "name": "stdout",
     "output_type": "stream",
     "text": [
      "{1: 'a', 2: 'b', 3: 'c', 4: 'd', 5: 'e', 6: 'f', 7: 'g', 8: 'h', 9: 'i', 10: 'j', 11: 'k', 12: 'l', 13: 'm', 14: 'n', 15: 'o', 16: 'p', 17: 'q', 18: 'r', 19: 's', 20: 't', 21: 'u', 22: 'v', 23: 'w', 24: 'x', 25: 'y', 26: 'z', 0: '.'}\n"
     ]
    }
   ],
   "source": [
    "print(itos)"
   ]
  },
  {
   "cell_type": "code",
   "execution_count": 10,
   "metadata": {},
   "outputs": [],
   "source": [
    "## Building the data set\n",
    "\n",
    "block_size = 3 ## context length: How many chars to take to predict the next one?\n",
    "\n",
    "X, Y = [], []\n",
    "\n",
    "for w in words:\n",
    "    context = [0] * block_size # -> 1st Iter [0, 0, 0]\n",
    "    \n",
    "    for ch in w + \".\":\n",
    "\n",
    "        ix = stoi[ch] ## Encoded values of character\n",
    "        \n",
    "        X.append(context) ## 1st Iter [0, 0, 0]\n",
    "        Y.append(ix) ## 1st Iter [itos[ch]]\n",
    "\n",
    "        context = context[1:] + [ix] ## Rolling Operation\n",
    "\n",
    "X = torch.tensor(X)\n",
    "Y = torch.tensor(Y)"
   ]
  },
  {
   "cell_type": "code",
   "execution_count": 11,
   "metadata": {},
   "outputs": [],
   "source": [
    "def build_dataset(words: list[str]):\n",
    "    \n",
    "    block_size = 3 ## context length: How many chars to take to predict the next one?\n",
    "\n",
    "    X, Y = [], []\n",
    "\n",
    "    for w in words:\n",
    "        context = [0] * block_size # -> 1st Iter [0, 0, 0]\n",
    "\n",
    "        for ch in w + \".\":\n",
    "\n",
    "            ix = stoi[ch] ## Encoded values of character\n",
    "\n",
    "            X.append(context) ## 1st Iter [0, 0, 0]\n",
    "            Y.append(ix) ## 1st Iter [itos[ch]]\n",
    "\n",
    "            context = context[1:] + [ix] ## Rolling Operation\n",
    "\n",
    "    X = torch.tensor(X)\n",
    "    Y = torch.tensor(Y)\n",
    "\n",
    "    return X, Y\n",
    "    "
   ]
  },
  {
   "cell_type": "code",
   "execution_count": 12,
   "metadata": {},
   "outputs": [],
   "source": [
    "random.shuffle(words)\n",
    "n1 = int(0.8 * len(words))\n",
    "n2 = int(0.9*len(words))\n",
    "\n",
    "Xtr, Ytr = build_dataset(words[:n1])\n",
    "Xdev, Ydev= build_dataset(words[n1:n2])\n",
    "Xte, Yte = build_dataset(words[n2:])"
   ]
  },
  {
   "cell_type": "markdown",
   "metadata": {},
   "source": [
    "#### Understanding Generated X Shape & Y Shape\n",
    "\n",
    "1. X shape is (N, Context Size). Where N is number of input samples generated while creating X, Y Pairs and Context Size is defined above\n",
    "\n",
    "2. Y Shape is (N). For each Input Sample, it contains the next character Output"
   ]
  },
  {
   "cell_type": "code",
   "execution_count": 13,
   "metadata": {},
   "outputs": [
    {
     "data": {
      "text/plain": [
       "(torch.Size([228146, 3]), torch.int64)"
      ]
     },
     "execution_count": 13,
     "metadata": {},
     "output_type": "execute_result"
    }
   ],
   "source": [
    "X.shape, X.dtype, "
   ]
  },
  {
   "cell_type": "code",
   "execution_count": 14,
   "metadata": {},
   "outputs": [
    {
     "data": {
      "text/plain": [
       "(torch.Size([228146]), torch.int64)"
      ]
     },
     "execution_count": 14,
     "metadata": {},
     "output_type": "execute_result"
    }
   ],
   "source": [
    "Y.shape, Y.dtype"
   ]
  },
  {
   "cell_type": "markdown",
   "metadata": {},
   "source": [
    "## Projecting characters into 2 Dimensional Space (Embedding Look Up Table)\n",
    "\n",
    "Number of Chars: 27\n",
    "\n",
    "Dimensions: 2"
   ]
  },
  {
   "cell_type": "code",
   "execution_count": 15,
   "metadata": {},
   "outputs": [],
   "source": [
    "C = torch.randn((27, 2))"
   ]
  },
  {
   "cell_type": "markdown",
   "metadata": {},
   "source": [
    "### Accessing entries of Look-Up Matrix C"
   ]
  },
  {
   "cell_type": "code",
   "execution_count": 16,
   "metadata": {},
   "outputs": [
    {
     "data": {
      "text/plain": [
       "tensor([-1.8617, -1.1684])"
      ]
     },
     "execution_count": 16,
     "metadata": {},
     "output_type": "execute_result"
    }
   ],
   "source": [
    "## For 5 encoded char \"e\"\n",
    "## itos[5]\n",
    "C[5]"
   ]
  },
  {
   "cell_type": "code",
   "execution_count": 17,
   "metadata": {},
   "outputs": [
    {
     "data": {
      "text/plain": [
       "tensor([-1.3457, -1.3996])"
      ]
     },
     "execution_count": 17,
     "metadata": {},
     "output_type": "execute_result"
    }
   ],
   "source": [
    "## For 0 encoded char \"a\"\n",
    "## itos[5]\n",
    "C[0]"
   ]
  },
  {
   "cell_type": "code",
   "execution_count": 18,
   "metadata": {},
   "outputs": [
    {
     "data": {
      "text/plain": [
       "tensor([-1.8617, -1.1684])"
      ]
     },
     "execution_count": 18,
     "metadata": {},
     "output_type": "execute_result"
    }
   ],
   "source": [
    "## Is there a better way to index Look Up Matrix?\n",
    "## Yes One Hot Encoding\n",
    "F.one_hot(torch.tensor(5), num_classes=27).float() @ C"
   ]
  },
  {
   "cell_type": "code",
   "execution_count": 19,
   "metadata": {},
   "outputs": [
    {
     "data": {
      "text/plain": [
       "tensor([[-1.8617, -1.1684],\n",
       "        [-1.3457, -1.3996]])"
      ]
     },
     "execution_count": 19,
     "metadata": {},
     "output_type": "execute_result"
    }
   ],
   "source": [
    "## First Layer of Neural Language Model is essentially, look up into Embedding matrices for Provide Input\n",
    "\n",
    "### Getting values for 5th Row & 0th Row simultaneously\n",
    "C[[5, 0]]"
   ]
  },
  {
   "cell_type": "code",
   "execution_count": 20,
   "metadata": {},
   "outputs": [
    {
     "data": {
      "text/plain": [
       "tensor([[-1.8617, -1.1684],\n",
       "        [-0.6032, -0.7181],\n",
       "        [-0.7086, -1.1546],\n",
       "        [-0.7086, -1.1546],\n",
       "        [-0.7086, -1.1546]])"
      ]
     },
     "execution_count": 20,
     "metadata": {},
     "output_type": "execute_result"
    }
   ],
   "source": [
    "### Getting values for 5th Row , 6th Row & 7th Row ,7th Row, 7th Row simultaneously\n",
    "\n",
    "C[torch.tensor([5, 6, 7, 7, 7])]"
   ]
  },
  {
   "cell_type": "code",
   "execution_count": 21,
   "metadata": {},
   "outputs": [
    {
     "data": {
      "text/plain": [
       "(torch.Size([228146, 3]), torch.int64)"
      ]
     },
     "execution_count": 21,
     "metadata": {},
     "output_type": "execute_result"
    }
   ],
   "source": [
    "X.shape, X.dtype, "
   ]
  },
  {
   "cell_type": "markdown",
   "metadata": {},
   "source": [
    "### How can I get Embedding Look Up entries for X Input `[N, Context Size]`"
   ]
  },
  {
   "cell_type": "code",
   "execution_count": 22,
   "metadata": {},
   "outputs": [],
   "source": [
    "## Slicing X Tensor for Single word emma (1st name in data)\n",
    "X_single_name = X[0:4, :]"
   ]
  },
  {
   "cell_type": "code",
   "execution_count": 23,
   "metadata": {},
   "outputs": [
    {
     "data": {
      "text/plain": [
       "tensor([[ 0,  0,  0],\n",
       "        [ 0,  0,  5],\n",
       "        [ 0,  5, 13],\n",
       "        [ 5, 13, 13]])"
      ]
     },
     "execution_count": 23,
     "metadata": {},
     "output_type": "execute_result"
    }
   ],
   "source": [
    "X_single_name"
   ]
  },
  {
   "cell_type": "code",
   "execution_count": 24,
   "metadata": {},
   "outputs": [
    {
     "data": {
      "text/plain": [
       "(tensor([[[-1.3457, -1.3996],\n",
       "          [-1.3457, -1.3996],\n",
       "          [-1.3457, -1.3996]],\n",
       " \n",
       "         [[-1.3457, -1.3996],\n",
       "          [-1.3457, -1.3996],\n",
       "          [-1.8617, -1.1684]],\n",
       " \n",
       "         [[-1.3457, -1.3996],\n",
       "          [-1.8617, -1.1684],\n",
       "          [-0.3694, -0.0360]],\n",
       " \n",
       "         [[-1.8617, -1.1684],\n",
       "          [-0.3694, -0.0360],\n",
       "          [-0.3694, -0.0360]]]),\n",
       " torch.Size([4, 3, 2]))"
      ]
     },
     "execution_count": 24,
     "metadata": {},
     "output_type": "execute_result"
    }
   ],
   "source": [
    "## In each row of X\n",
    "## Number of encoded chars == context sizr\n",
    "## For each encodeed chars -> (, 2) shape Look-Up Embedding Table output\n",
    "\n",
    "## End Shape would look like\n",
    "## (N, Context_Size, Embedding Dim)\n",
    "C[X_single_name], C[X_single_name].shape"
   ]
  },
  {
   "cell_type": "code",
   "execution_count": 25,
   "metadata": {},
   "outputs": [
    {
     "data": {
      "text/plain": [
       "tensor(1)"
      ]
     },
     "execution_count": 25,
     "metadata": {},
     "output_type": "execute_result"
    }
   ],
   "source": [
    "X[13, 2]"
   ]
  },
  {
   "cell_type": "code",
   "execution_count": 26,
   "metadata": {},
   "outputs": [
    {
     "data": {
      "text/plain": [
       "tensor([-0.2472, -0.3011])"
      ]
     },
     "execution_count": 26,
     "metadata": {},
     "output_type": "execute_result"
    }
   ],
   "source": [
    "C[X][13,2]"
   ]
  },
  {
   "cell_type": "code",
   "execution_count": 27,
   "metadata": {},
   "outputs": [
    {
     "data": {
      "text/plain": [
       "tensor([-0.2472, -0.3011])"
      ]
     },
     "execution_count": 27,
     "metadata": {},
     "output_type": "execute_result"
    }
   ],
   "source": [
    "C[1]"
   ]
  },
  {
   "cell_type": "code",
   "execution_count": 28,
   "metadata": {},
   "outputs": [
    {
     "data": {
      "text/plain": [
       "torch.Size([228146, 3, 2])"
      ]
     },
     "execution_count": 28,
     "metadata": {},
     "output_type": "execute_result"
    }
   ],
   "source": [
    "## We can embedd directly by passing X into C and it should work!\n",
    "\n",
    "emb = C[X]\n",
    "emb.shape"
   ]
  },
  {
   "cell_type": "code",
   "execution_count": 29,
   "metadata": {},
   "outputs": [],
   "source": [
    "### Constructing Hidden Layer\n",
    "\n",
    "W1 = torch.randn((6, 100))\n",
    "b1 = torch.randn(100)"
   ]
  },
  {
   "cell_type": "code",
   "execution_count": 30,
   "metadata": {},
   "outputs": [
    {
     "data": {
      "text/plain": [
       "torch.Size([228146, 6])"
      ]
     },
     "execution_count": 30,
     "metadata": {},
     "output_type": "execute_result"
    }
   ],
   "source": [
    "### Embedding which is input to Hidden Layer has shape of [N, context, embedding dimension] -> (32, 3, 2)\n",
    "### While Hidden layer neuron shape is (context * embedding dimension, hidden_dim) -> (6, 100)\n",
    "\n",
    "### Last 2 dimensions of embedding layer needs to combined together so that shape matches for matmul\n",
    "\n",
    "### One way to solve is to use torch cat function\n",
    "\n",
    "torch.cat([emb[:, 0, :], emb[:, 1, :], emb[:, 2, :]], dim=1).shape"
   ]
  },
  {
   "cell_type": "code",
   "execution_count": 31,
   "metadata": {},
   "outputs": [
    {
     "data": {
      "text/plain": [
       "torch.Size([228146, 6])"
      ]
     },
     "execution_count": 31,
     "metadata": {},
     "output_type": "execute_result"
    }
   ],
   "source": [
    "torch.cat([emb[:, 0, :], emb[:, 1, :], emb[:, 2, :]], dim=1).shape"
   ]
  },
  {
   "cell_type": "code",
   "execution_count": 32,
   "metadata": {},
   "outputs": [
    {
     "data": {
      "text/plain": [
       "tensor([[-1.3457, -1.3996, -1.3457, -1.3996, -1.3457, -1.3996],\n",
       "        [-1.3457, -1.3996, -1.3457, -1.3996, -1.8617, -1.1684],\n",
       "        [-1.3457, -1.3996, -1.8617, -1.1684, -0.3694, -0.0360],\n",
       "        ...,\n",
       "        [ 0.0366, -0.2425,  0.0366, -0.2425,  0.0738, -0.5766],\n",
       "        [ 0.0366, -0.2425,  0.0738, -0.5766,  0.0366, -0.2425],\n",
       "        [ 0.0738, -0.5766,  0.0366, -0.2425, -0.7814,  1.0072]])"
      ]
     },
     "execution_count": 32,
     "metadata": {},
     "output_type": "execute_result"
    }
   ],
   "source": [
    "### More generic way would be use torch unbind and then use torch cat\n",
    "### Unbinding is done on dimension where context size is defined\n",
    "\n",
    "torch.cat(torch.unbind(emb, dim=1), dim=1)"
   ]
  },
  {
   "cell_type": "code",
   "execution_count": 33,
   "metadata": {},
   "outputs": [],
   "source": [
    "Input_Embedding_Proj = copy.deepcopy(C[X])"
   ]
  },
  {
   "cell_type": "code",
   "execution_count": 34,
   "metadata": {},
   "outputs": [
    {
     "data": {
      "text/plain": [
       "torch.Size([228146, 3, 2])"
      ]
     },
     "execution_count": 34,
     "metadata": {},
     "output_type": "execute_result"
    }
   ],
   "source": [
    "Input_Embedding_Proj.shape"
   ]
  },
  {
   "cell_type": "code",
   "execution_count": 35,
   "metadata": {},
   "outputs": [
    {
     "data": {
      "text/plain": [
       "tensor([ 0,  1,  2,  3,  4,  5,  6,  7,  8,  9, 10, 11, 12, 13, 14, 15, 16, 17])"
      ]
     },
     "execution_count": 35,
     "metadata": {},
     "output_type": "execute_result"
    }
   ],
   "source": [
    "#### Easier way to do this\n",
    "\n",
    "a = torch.arange(18)\n",
    "a "
   ]
  },
  {
   "cell_type": "code",
   "execution_count": 36,
   "metadata": {},
   "outputs": [
    {
     "data": {
      "text/plain": [
       "tensor([[ 0,  1,  2,  3,  4,  5,  6,  7,  8],\n",
       "        [ 9, 10, 11, 12, 13, 14, 15, 16, 17]])"
      ]
     },
     "execution_count": 36,
     "metadata": {},
     "output_type": "execute_result"
    }
   ],
   "source": [
    "a.view(2, 9)"
   ]
  },
  {
   "cell_type": "code",
   "execution_count": 37,
   "metadata": {},
   "outputs": [
    {
     "data": {
      "text/plain": [
       "tensor([[ 0,  1],\n",
       "        [ 2,  3],\n",
       "        [ 4,  5],\n",
       "        [ 6,  7],\n",
       "        [ 8,  9],\n",
       "        [10, 11],\n",
       "        [12, 13],\n",
       "        [14, 15],\n",
       "        [16, 17]])"
      ]
     },
     "execution_count": 37,
     "metadata": {},
     "output_type": "execute_result"
    }
   ],
   "source": [
    "a.view(9, 2)"
   ]
  },
  {
   "cell_type": "code",
   "execution_count": 38,
   "metadata": {},
   "outputs": [
    {
     "data": {
      "text/plain": [
       "torch.Size([228146, 3, 2])"
      ]
     },
     "execution_count": 38,
     "metadata": {},
     "output_type": "execute_result"
    }
   ],
   "source": [
    "emb.shape"
   ]
  },
  {
   "cell_type": "code",
   "execution_count": 39,
   "metadata": {},
   "outputs": [],
   "source": [
    "h = torch.tanh(emb.view(emb.shape[0], 6) @ W1 + b1)"
   ]
  },
  {
   "cell_type": "code",
   "execution_count": 40,
   "metadata": {},
   "outputs": [
    {
     "data": {
      "text/plain": [
       "tensor([[ 1.0000, -1.0000,  0.7012,  ...,  0.9952, -1.0000,  0.9975],\n",
       "        [ 1.0000, -1.0000,  0.7789,  ...,  0.9969, -1.0000,  0.9932],\n",
       "        [ 0.9998, -0.9993,  0.2195,  ...,  0.9988, -0.9889,  0.9990],\n",
       "        ...,\n",
       "        [ 0.1695,  0.5638, -0.8316,  ..., -0.8829, -0.9926,  0.1571],\n",
       "        [ 0.5332,  0.4418, -0.8099,  ..., -0.6290, -0.9979,  0.1057],\n",
       "        [-0.3796, -0.5741, -0.7374,  ...,  0.2328, -1.0000, -0.8581]])"
      ]
     },
     "execution_count": 40,
     "metadata": {},
     "output_type": "execute_result"
    }
   ],
   "source": [
    "h"
   ]
  },
  {
   "cell_type": "code",
   "execution_count": 41,
   "metadata": {},
   "outputs": [],
   "source": [
    "### Output Layer\n",
    "\n",
    "W2 = torch.randn((100, 27))\n",
    "b2 = torch.randn(27)"
   ]
  },
  {
   "cell_type": "code",
   "execution_count": 42,
   "metadata": {},
   "outputs": [],
   "source": [
    "logits = h @ W2 + b2"
   ]
  },
  {
   "cell_type": "code",
   "execution_count": 43,
   "metadata": {},
   "outputs": [],
   "source": [
    "loss = F.cross_entropy(logits, Y)"
   ]
  },
  {
   "cell_type": "code",
   "execution_count": 44,
   "metadata": {},
   "outputs": [
    {
     "data": {
      "text/plain": [
       "tensor(16.2801)"
      ]
     },
     "execution_count": 44,
     "metadata": {},
     "output_type": "execute_result"
    }
   ],
   "source": [
    "loss"
   ]
  },
  {
   "cell_type": "markdown",
   "metadata": {},
   "source": [
    "#### Training Loop "
   ]
  },
  {
   "cell_type": "code",
   "execution_count": 45,
   "metadata": {},
   "outputs": [
    {
     "data": {
      "text/plain": [
       "(torch.Size([228146, 3]), torch.Size([228146]))"
      ]
     },
     "execution_count": 45,
     "metadata": {},
     "output_type": "execute_result"
    }
   ],
   "source": [
    "X.shape, Y.shape ## DataSet"
   ]
  },
  {
   "cell_type": "code",
   "execution_count": 46,
   "metadata": {},
   "outputs": [],
   "source": [
    "g = torch.Generator().manual_seed(2147483647)\n",
    "\n",
    "C = torch.randn((27, 2), generator=g, requires_grad=True)\n",
    "\n",
    "W1 = torch.randn((6, 100), generator=g, requires_grad=True)\n",
    "b1 = torch.randn(100, generator=g, requires_grad=True)\n",
    "\n",
    "W2 = torch.randn((100, 27), generator=g, requires_grad=True)\n",
    "b2 = torch.randn(27, generator=g, requires_grad=True)\n",
    "\n",
    "parameters = [C, W1, b1, W2, b2]"
   ]
  },
  {
   "cell_type": "code",
   "execution_count": 47,
   "metadata": {},
   "outputs": [
    {
     "data": {
      "text/plain": [
       "3481"
      ]
     },
     "execution_count": 47,
     "metadata": {},
     "output_type": "execute_result"
    }
   ],
   "source": [
    "sum(p.nelement() for p in parameters)"
   ]
  },
  {
   "cell_type": "code",
   "execution_count": null,
   "metadata": {},
   "outputs": [],
   "source": []
  },
  {
   "cell_type": "code",
   "execution_count": null,
   "metadata": {},
   "outputs": [],
   "source": [
    "## Estimating Optimal Learning Rate\n",
    "\n",
    "### Why we want to do that?\n",
    "### so that we we get optimal learning rate, leading to reduction in loss in less amount of time & computation\n",
    "\n",
    "### How to do that?\n",
    "\n",
    "#### Compute loss for different learning rates & at different epochs\n",
    "#### start with low learning rate, then gradually increase it\n",
    "#### Select LR which gives lower loss\n",
    "\n"
   ]
  },
  {
   "cell_type": "code",
   "execution_count": 48,
   "metadata": {},
   "outputs": [],
   "source": [
    "lre = torch.linspace(-3, 0, 1000)\n",
    "lrs = 10 ** lre"
   ]
  },
  {
   "cell_type": "code",
   "execution_count": 50,
   "metadata": {},
   "outputs": [],
   "source": [
    "lri = []\n",
    "\n",
    "lossi = []\n",
    "\n",
    "for i in range(1000):\n",
    "\n",
    "    # Adding MiniBatch Gradient Descent\n",
    "    ix = torch.randint(0, X.shape[0], (32,))\n",
    "    \n",
    "    # Forward Pass\n",
    "    emb = C[X[ix]]\n",
    "\n",
    "    h = torch.tanh(emb.view(emb.shape[0], 6) @ W1 + b1)\n",
    "\n",
    "    logits = h @ W2 + b2\n",
    "\n",
    "    loss = F.cross_entropy(logits, Y[ix])\n",
    "\n",
    "\n",
    "    # print(loss.item())\n",
    "\n",
    "    ## Backward pass \n",
    "\n",
    "    for p in parameters:\n",
    "        p.grad = None\n",
    "\n",
    "    loss.backward()\n",
    "\n",
    "    ## Update\n",
    "\n",
    "    ## Trying to find optimal learning rate\n",
    "    lr = lrs[i]\n",
    "    for p in parameters: \n",
    "        p.data += -lr * p.grad\n",
    "\n",
    "    lri.append(lre[i].item())\n",
    "    lossi.append(loss.item())\n",
    "\n",
    "# print(loss.item())\n"
   ]
  },
  {
   "cell_type": "code",
   "execution_count": 51,
   "metadata": {},
   "outputs": [
    {
     "data": {
      "text/plain": [
       "[-3.0,\n",
       " -2.9969968795776367,\n",
       " -2.9939939975738525,\n",
       " -2.9909908771514893,\n",
       " -2.987987995147705,\n",
       " -2.984984874725342,\n",
       " -2.9819819927215576,\n",
       " -2.9789788722991943,\n",
       " -2.97597599029541,\n",
       " -2.972972869873047,\n",
       " -2.9699699878692627,\n",
       " -2.9669668674468994,\n",
       " -2.9639639854431152,\n",
       " -2.960960865020752,\n",
       " -2.9579579830169678,\n",
       " -2.9549548625946045,\n",
       " -2.9519519805908203,\n",
       " -2.948948860168457,\n",
       " -2.945945978164673,\n",
       " -2.9429428577423096,\n",
       " -2.9399399757385254,\n",
       " -2.936936855316162,\n",
       " -2.933933973312378,\n",
       " -2.9309308528900146,\n",
       " -2.9279279708862305,\n",
       " -2.924924850463867,\n",
       " -2.921921968460083,\n",
       " -2.9189188480377197,\n",
       " -2.9159159660339355,\n",
       " -2.9129128456115723,\n",
       " -2.909909963607788,\n",
       " -2.906906843185425,\n",
       " -2.9039039611816406,\n",
       " -2.9009008407592773,\n",
       " -2.897897958755493,\n",
       " -2.89489483833313,\n",
       " -2.8918919563293457,\n",
       " -2.8888888359069824,\n",
       " -2.8858859539031982,\n",
       " -2.882882833480835,\n",
       " -2.879879951477051,\n",
       " -2.8768768310546875,\n",
       " -2.8738739490509033,\n",
       " -2.87087082862854,\n",
       " -2.867867946624756,\n",
       " -2.8648648262023926,\n",
       " -2.8618619441986084,\n",
       " -2.858858823776245,\n",
       " -2.855855941772461,\n",
       " -2.8528528213500977,\n",
       " -2.8498499393463135,\n",
       " -2.84684681892395,\n",
       " -2.843843936920166,\n",
       " -2.8408408164978027,\n",
       " -2.8378379344940186,\n",
       " -2.8348348140716553,\n",
       " -2.831831932067871,\n",
       " -2.828828811645508,\n",
       " -2.8258259296417236,\n",
       " -2.8228228092193604,\n",
       " -2.819819927215576,\n",
       " -2.816816806793213,\n",
       " -2.8138139247894287,\n",
       " -2.8108108043670654,\n",
       " -2.8078079223632812,\n",
       " -2.804804801940918,\n",
       " -2.8018016815185547,\n",
       " -2.7987987995147705,\n",
       " -2.7957956790924072,\n",
       " -2.792792797088623,\n",
       " -2.7897896766662598,\n",
       " -2.7867867946624756,\n",
       " -2.7837836742401123,\n",
       " -2.780780792236328,\n",
       " -2.777777671813965,\n",
       " -2.7747747898101807,\n",
       " -2.7717716693878174,\n",
       " -2.768768787384033,\n",
       " -2.76576566696167,\n",
       " -2.7627627849578857,\n",
       " -2.7597596645355225,\n",
       " -2.7567567825317383,\n",
       " -2.753753662109375,\n",
       " -2.750750780105591,\n",
       " -2.7477476596832275,\n",
       " -2.7447447776794434,\n",
       " -2.74174165725708,\n",
       " -2.738738775253296,\n",
       " -2.7357356548309326,\n",
       " -2.7327327728271484,\n",
       " -2.729729652404785,\n",
       " -2.726726770401001,\n",
       " -2.7237236499786377,\n",
       " -2.7207207679748535,\n",
       " -2.7177176475524902,\n",
       " -2.714714765548706,\n",
       " -2.7117116451263428,\n",
       " -2.7087087631225586,\n",
       " -2.7057056427001953,\n",
       " -2.702702760696411,\n",
       " -2.699699640274048,\n",
       " -2.6966967582702637,\n",
       " -2.6936936378479004,\n",
       " -2.690690755844116,\n",
       " -2.687687635421753,\n",
       " -2.6846847534179688,\n",
       " -2.6816816329956055,\n",
       " -2.6786787509918213,\n",
       " -2.675675630569458,\n",
       " -2.672672748565674,\n",
       " -2.6696696281433105,\n",
       " -2.6666667461395264,\n",
       " -2.663663625717163,\n",
       " -2.660660743713379,\n",
       " -2.6576576232910156,\n",
       " -2.6546547412872314,\n",
       " -2.651651620864868,\n",
       " -2.648648738861084,\n",
       " -2.6456456184387207,\n",
       " -2.6426427364349365,\n",
       " -2.6396396160125732,\n",
       " -2.636636734008789,\n",
       " -2.633633613586426,\n",
       " -2.6306307315826416,\n",
       " -2.6276276111602783,\n",
       " -2.624624729156494,\n",
       " -2.621621608734131,\n",
       " -2.6186187267303467,\n",
       " -2.6156156063079834,\n",
       " -2.61261248588562,\n",
       " -2.609609603881836,\n",
       " -2.6066064834594727,\n",
       " -2.6036036014556885,\n",
       " -2.600600481033325,\n",
       " -2.597597599029541,\n",
       " -2.5945944786071777,\n",
       " -2.5915915966033936,\n",
       " -2.5885884761810303,\n",
       " -2.585585594177246,\n",
       " -2.582582473754883,\n",
       " -2.5795795917510986,\n",
       " -2.5765764713287354,\n",
       " -2.573573589324951,\n",
       " -2.570570468902588,\n",
       " -2.5675675868988037,\n",
       " -2.5645644664764404,\n",
       " -2.5615615844726562,\n",
       " -2.558558464050293,\n",
       " -2.555555582046509,\n",
       " -2.5525524616241455,\n",
       " -2.5495495796203613,\n",
       " -2.546546459197998,\n",
       " -2.543543577194214,\n",
       " -2.5405404567718506,\n",
       " -2.5375375747680664,\n",
       " -2.534534454345703,\n",
       " -2.531531572341919,\n",
       " -2.5285284519195557,\n",
       " -2.5255255699157715,\n",
       " -2.522522449493408,\n",
       " -2.519519567489624,\n",
       " -2.5165164470672607,\n",
       " -2.5135135650634766,\n",
       " -2.5105104446411133,\n",
       " -2.507507562637329,\n",
       " -2.504504442214966,\n",
       " -2.5015015602111816,\n",
       " -2.4984984397888184,\n",
       " -2.495495557785034,\n",
       " -2.492492437362671,\n",
       " -2.4894895553588867,\n",
       " -2.4864864349365234,\n",
       " -2.4834835529327393,\n",
       " -2.480480432510376,\n",
       " -2.477477550506592,\n",
       " -2.4744744300842285,\n",
       " -2.4714715480804443,\n",
       " -2.468468427658081,\n",
       " -2.465465545654297,\n",
       " -2.4624624252319336,\n",
       " -2.4594595432281494,\n",
       " -2.456456422805786,\n",
       " -2.453453540802002,\n",
       " -2.4504504203796387,\n",
       " -2.4474475383758545,\n",
       " -2.444444417953491,\n",
       " -2.441441535949707,\n",
       " -2.4384384155273438,\n",
       " -2.4354355335235596,\n",
       " -2.4324324131011963,\n",
       " -2.429429531097412,\n",
       " -2.426426410675049,\n",
       " -2.4234232902526855,\n",
       " -2.4204204082489014,\n",
       " -2.417417287826538,\n",
       " -2.414414405822754,\n",
       " -2.4114112854003906,\n",
       " -2.4084084033966064,\n",
       " -2.405405282974243,\n",
       " -2.402402400970459,\n",
       " -2.3993992805480957,\n",
       " -2.3963963985443115,\n",
       " -2.3933932781219482,\n",
       " -2.390390396118164,\n",
       " -2.387387275695801,\n",
       " -2.3843843936920166,\n",
       " -2.3813812732696533,\n",
       " -2.378378391265869,\n",
       " -2.375375270843506,\n",
       " -2.3723723888397217,\n",
       " -2.3693692684173584,\n",
       " -2.366366386413574,\n",
       " -2.363363265991211,\n",
       " -2.3603603839874268,\n",
       " -2.3573572635650635,\n",
       " -2.3543543815612793,\n",
       " -2.351351261138916,\n",
       " -2.348348379135132,\n",
       " -2.3453452587127686,\n",
       " -2.3423423767089844,\n",
       " -2.339339256286621,\n",
       " -2.336336374282837,\n",
       " -2.3333332538604736,\n",
       " -2.3303303718566895,\n",
       " -2.327327251434326,\n",
       " -2.324324369430542,\n",
       " -2.3213212490081787,\n",
       " -2.3183183670043945,\n",
       " -2.3153152465820312,\n",
       " -2.312312364578247,\n",
       " -2.309309244155884,\n",
       " -2.3063063621520996,\n",
       " -2.3033032417297363,\n",
       " -2.300300359725952,\n",
       " -2.297297239303589,\n",
       " -2.2942943572998047,\n",
       " -2.2912912368774414,\n",
       " -2.2882883548736572,\n",
       " -2.285285234451294,\n",
       " -2.2822823524475098,\n",
       " -2.2792792320251465,\n",
       " -2.2762763500213623,\n",
       " -2.273273229598999,\n",
       " -2.270270347595215,\n",
       " -2.2672672271728516,\n",
       " -2.2642643451690674,\n",
       " -2.261261224746704,\n",
       " -2.25825834274292,\n",
       " -2.2552552223205566,\n",
       " -2.2522523403167725,\n",
       " -2.249249219894409,\n",
       " -2.246246337890625,\n",
       " -2.2432432174682617,\n",
       " -2.2402403354644775,\n",
       " -2.2372372150421143,\n",
       " -2.23423433303833,\n",
       " -2.231231212615967,\n",
       " -2.2282280921936035,\n",
       " -2.2252252101898193,\n",
       " -2.222222089767456,\n",
       " -2.219219207763672,\n",
       " -2.2162160873413086,\n",
       " -2.2132132053375244,\n",
       " -2.210210084915161,\n",
       " -2.207207202911377,\n",
       " -2.2042040824890137,\n",
       " -2.2012012004852295,\n",
       " -2.198198080062866,\n",
       " -2.195195198059082,\n",
       " -2.1921920776367188,\n",
       " -2.1891891956329346,\n",
       " -2.1861860752105713,\n",
       " -2.183183193206787,\n",
       " -2.180180072784424,\n",
       " -2.1771771907806396,\n",
       " -2.1741740703582764,\n",
       " -2.171171188354492,\n",
       " -2.168168067932129,\n",
       " -2.1651651859283447,\n",
       " -2.1621620655059814,\n",
       " -2.1591591835021973,\n",
       " -2.156156063079834,\n",
       " -2.15315318107605,\n",
       " -2.1501500606536865,\n",
       " -2.1471471786499023,\n",
       " -2.144144058227539,\n",
       " -2.141141176223755,\n",
       " -2.1381380558013916,\n",
       " -2.1351351737976074,\n",
       " -2.132132053375244,\n",
       " -2.12912917137146,\n",
       " -2.1261260509490967,\n",
       " -2.1231231689453125,\n",
       " -2.120120048522949,\n",
       " -2.117117166519165,\n",
       " -2.1141140460968018,\n",
       " -2.1111111640930176,\n",
       " -2.1081080436706543,\n",
       " -2.10510516166687,\n",
       " -2.102102041244507,\n",
       " -2.0990991592407227,\n",
       " -2.0960960388183594,\n",
       " -2.093093156814575,\n",
       " -2.090090036392212,\n",
       " -2.0870871543884277,\n",
       " -2.0840840339660645,\n",
       " -2.0810811519622803,\n",
       " -2.078078031539917,\n",
       " -2.075075149536133,\n",
       " -2.0720720291137695,\n",
       " -2.0690691471099854,\n",
       " -2.066066026687622,\n",
       " -2.063063144683838,\n",
       " -2.0600600242614746,\n",
       " -2.0570571422576904,\n",
       " -2.054054021835327,\n",
       " -2.051051139831543,\n",
       " -2.0480480194091797,\n",
       " -2.0450451374053955,\n",
       " -2.0420420169830322,\n",
       " -2.039039134979248,\n",
       " -2.0360360145568848,\n",
       " -2.0330328941345215,\n",
       " -2.0300300121307373,\n",
       " -2.027026891708374,\n",
       " -2.02402400970459,\n",
       " -2.0210208892822266,\n",
       " -2.0180180072784424,\n",
       " -2.015014886856079,\n",
       " -2.012012004852295,\n",
       " -2.0090088844299316,\n",
       " -2.0060060024261475,\n",
       " -2.003002882003784,\n",
       " -2.0,\n",
       " -1.9969969987869263,\n",
       " -1.9939939975738525,\n",
       " -1.9909909963607788,\n",
       " -1.987987995147705,\n",
       " -1.9849849939346313,\n",
       " -1.9819819927215576,\n",
       " -1.9789789915084839,\n",
       " -1.9759759902954102,\n",
       " -1.9729729890823364,\n",
       " -1.9699699878692627,\n",
       " -1.966966986656189,\n",
       " -1.9639639854431152,\n",
       " -1.9609609842300415,\n",
       " -1.9579579830169678,\n",
       " -1.954954981803894,\n",
       " -1.9519519805908203,\n",
       " -1.9489489793777466,\n",
       " -1.9459459781646729,\n",
       " -1.9429428577423096,\n",
       " -1.9399398565292358,\n",
       " -1.936936855316162,\n",
       " -1.9339338541030884,\n",
       " -1.9309308528900146,\n",
       " -1.927927851676941,\n",
       " -1.9249248504638672,\n",
       " -1.9219218492507935,\n",
       " -1.9189188480377197,\n",
       " -1.915915846824646,\n",
       " -1.9129128456115723,\n",
       " -1.9099098443984985,\n",
       " -1.9069068431854248,\n",
       " -1.903903841972351,\n",
       " -1.9009008407592773,\n",
       " -1.8978978395462036,\n",
       " -1.8948948383331299,\n",
       " -1.8918918371200562,\n",
       " -1.8888888359069824,\n",
       " -1.8858858346939087,\n",
       " -1.882882833480835,\n",
       " -1.8798798322677612,\n",
       " -1.8768768310546875,\n",
       " -1.8738738298416138,\n",
       " -1.87087082862854,\n",
       " -1.8678678274154663,\n",
       " -1.8648648262023926,\n",
       " -1.8618618249893188,\n",
       " -1.8588588237762451,\n",
       " -1.8558558225631714,\n",
       " -1.8528528213500977,\n",
       " -1.849849820137024,\n",
       " -1.8468468189239502,\n",
       " -1.8438438177108765,\n",
       " -1.8408408164978027,\n",
       " -1.837837815284729,\n",
       " -1.8348348140716553,\n",
       " -1.8318318128585815,\n",
       " -1.8288288116455078,\n",
       " -1.825825810432434,\n",
       " -1.8228228092193604,\n",
       " -1.8198198080062866,\n",
       " -1.816816806793213,\n",
       " -1.8138138055801392,\n",
       " -1.8108108043670654,\n",
       " -1.8078078031539917,\n",
       " -1.804804801940918,\n",
       " -1.8018018007278442,\n",
       " -1.7987987995147705,\n",
       " -1.7957957983016968,\n",
       " -1.792792797088623,\n",
       " -1.7897897958755493,\n",
       " -1.7867867946624756,\n",
       " -1.7837837934494019,\n",
       " -1.7807807922363281,\n",
       " -1.7777777910232544,\n",
       " -1.7747747898101807,\n",
       " -1.771771788597107,\n",
       " -1.7687687873840332,\n",
       " -1.7657657861709595,\n",
       " -1.7627627849578857,\n",
       " -1.759759783744812,\n",
       " -1.7567567825317383,\n",
       " -1.7537537813186646,\n",
       " -1.7507507801055908,\n",
       " -1.7477476596832275,\n",
       " -1.7447446584701538,\n",
       " -1.74174165725708,\n",
       " -1.7387386560440063,\n",
       " -1.7357356548309326,\n",
       " -1.7327326536178589,\n",
       " -1.7297296524047852,\n",
       " -1.7267266511917114,\n",
       " -1.7237236499786377,\n",
       " -1.720720648765564,\n",
       " -1.7177176475524902,\n",
       " -1.7147146463394165,\n",
       " -1.7117116451263428,\n",
       " -1.708708643913269,\n",
       " -1.7057056427001953,\n",
       " -1.7027026414871216,\n",
       " -1.6996996402740479,\n",
       " -1.6966966390609741,\n",
       " -1.6936936378479004,\n",
       " -1.6906906366348267,\n",
       " -1.687687635421753,\n",
       " -1.6846846342086792,\n",
       " -1.6816816329956055,\n",
       " -1.6786786317825317,\n",
       " -1.675675630569458,\n",
       " -1.6726726293563843,\n",
       " -1.6696696281433105,\n",
       " -1.6666666269302368,\n",
       " -1.663663625717163,\n",
       " -1.6606606245040894,\n",
       " -1.6576576232910156,\n",
       " -1.654654622077942,\n",
       " -1.6516516208648682,\n",
       " -1.6486486196517944,\n",
       " -1.6456456184387207,\n",
       " -1.642642617225647,\n",
       " -1.6396396160125732,\n",
       " -1.6366366147994995,\n",
       " -1.6336336135864258,\n",
       " -1.630630612373352,\n",
       " -1.6276276111602783,\n",
       " -1.6246246099472046,\n",
       " -1.6216216087341309,\n",
       " -1.6186186075210571,\n",
       " -1.6156156063079834,\n",
       " -1.6126126050949097,\n",
       " -1.609609603881836,\n",
       " -1.6066066026687622,\n",
       " -1.6036036014556885,\n",
       " -1.6006006002426147,\n",
       " -1.597597599029541,\n",
       " -1.5945945978164673,\n",
       " -1.5915915966033936,\n",
       " -1.5885885953903198,\n",
       " -1.585585594177246,\n",
       " -1.5825825929641724,\n",
       " -1.5795795917510986,\n",
       " -1.576576590538025,\n",
       " -1.5735735893249512,\n",
       " -1.5705705881118774,\n",
       " -1.5675675868988037,\n",
       " -1.56456458568573,\n",
       " -1.5615615844726562,\n",
       " -1.558558464050293,\n",
       " -1.5555554628372192,\n",
       " -1.5525524616241455,\n",
       " -1.5495494604110718,\n",
       " -1.546546459197998,\n",
       " -1.5435434579849243,\n",
       " -1.5405404567718506,\n",
       " -1.5375374555587769,\n",
       " -1.5345344543457031,\n",
       " -1.5315314531326294,\n",
       " -1.5285284519195557,\n",
       " -1.525525450706482,\n",
       " -1.5225224494934082,\n",
       " -1.5195194482803345,\n",
       " -1.5165164470672607,\n",
       " -1.513513445854187,\n",
       " -1.5105104446411133,\n",
       " -1.5075074434280396,\n",
       " -1.5045044422149658,\n",
       " -1.501501441001892,\n",
       " -1.498498558998108,\n",
       " -1.4954955577850342,\n",
       " -1.4924925565719604,\n",
       " -1.4894895553588867,\n",
       " -1.486486554145813,\n",
       " -1.4834835529327393,\n",
       " -1.4804805517196655,\n",
       " -1.4774775505065918,\n",
       " -1.474474549293518,\n",
       " -1.4714715480804443,\n",
       " -1.4684685468673706,\n",
       " -1.4654655456542969,\n",
       " -1.4624625444412231,\n",
       " -1.4594595432281494,\n",
       " -1.4564565420150757,\n",
       " -1.453453540802002,\n",
       " -1.4504505395889282,\n",
       " -1.4474475383758545,\n",
       " -1.4444445371627808,\n",
       " -1.441441535949707,\n",
       " -1.4384384155273438,\n",
       " -1.43543541431427,\n",
       " -1.4324324131011963,\n",
       " -1.4294294118881226,\n",
       " -1.4264264106750488,\n",
       " -1.423423409461975,\n",
       " -1.4204204082489014,\n",
       " -1.4174174070358276,\n",
       " -1.414414405822754,\n",
       " -1.4114114046096802,\n",
       " -1.4084084033966064,\n",
       " -1.4054054021835327,\n",
       " -1.402402400970459,\n",
       " -1.3993993997573853,\n",
       " -1.3963963985443115,\n",
       " -1.3933933973312378,\n",
       " -1.390390396118164,\n",
       " -1.3873873949050903,\n",
       " -1.3843843936920166,\n",
       " -1.3813813924789429,\n",
       " -1.3783783912658691,\n",
       " -1.3753753900527954,\n",
       " -1.3723723888397217,\n",
       " -1.369369387626648,\n",
       " -1.3663663864135742,\n",
       " -1.3633633852005005,\n",
       " -1.3603603839874268,\n",
       " -1.357357382774353,\n",
       " -1.3543543815612793,\n",
       " -1.3513513803482056,\n",
       " -1.3483483791351318,\n",
       " -1.345345377922058,\n",
       " -1.3423423767089844,\n",
       " -1.3393393754959106,\n",
       " -1.336336374282837,\n",
       " -1.3333333730697632,\n",
       " -1.3303303718566895,\n",
       " -1.3273273706436157,\n",
       " -1.324324369430542,\n",
       " -1.3213213682174683,\n",
       " -1.3183183670043945,\n",
       " -1.3153153657913208,\n",
       " -1.312312364578247,\n",
       " -1.3093093633651733,\n",
       " -1.3063063621520996,\n",
       " -1.3033033609390259,\n",
       " -1.3003003597259521,\n",
       " -1.2972973585128784,\n",
       " -1.2942943572998047,\n",
       " -1.291291356086731,\n",
       " -1.2882883548736572,\n",
       " -1.2852853536605835,\n",
       " -1.2822823524475098,\n",
       " -1.279279351234436,\n",
       " -1.2762763500213623,\n",
       " -1.2732733488082886,\n",
       " -1.2702703475952148,\n",
       " -1.2672673463821411,\n",
       " -1.2642643451690674,\n",
       " -1.2612613439559937,\n",
       " -1.25825834274292,\n",
       " -1.2552553415298462,\n",
       " -1.2522523403167725,\n",
       " -1.2492492198944092,\n",
       " -1.2462462186813354,\n",
       " -1.2432432174682617,\n",
       " -1.240240216255188,\n",
       " -1.2372372150421143,\n",
       " -1.2342342138290405,\n",
       " -1.2312312126159668,\n",
       " -1.228228211402893,\n",
       " -1.2252252101898193,\n",
       " -1.2222222089767456,\n",
       " -1.2192192077636719,\n",
       " -1.2162162065505981,\n",
       " -1.2132132053375244,\n",
       " -1.2102102041244507,\n",
       " -1.207207202911377,\n",
       " -1.2042042016983032,\n",
       " -1.2012012004852295,\n",
       " -1.1981981992721558,\n",
       " -1.195195198059082,\n",
       " -1.1921921968460083,\n",
       " -1.1891891956329346,\n",
       " -1.1861861944198608,\n",
       " -1.183183193206787,\n",
       " -1.1801801919937134,\n",
       " -1.1771771907806396,\n",
       " -1.174174189567566,\n",
       " -1.1711711883544922,\n",
       " -1.1681681871414185,\n",
       " -1.1651651859283447,\n",
       " -1.162162184715271,\n",
       " -1.1591591835021973,\n",
       " -1.1561561822891235,\n",
       " -1.1531531810760498,\n",
       " -1.150150179862976,\n",
       " -1.1471471786499023,\n",
       " -1.1441441774368286,\n",
       " -1.1411411762237549,\n",
       " -1.1381381750106812,\n",
       " -1.1351351737976074,\n",
       " -1.1321321725845337,\n",
       " -1.12912917137146,\n",
       " -1.1261261701583862,\n",
       " -1.1231231689453125,\n",
       " -1.1201201677322388,\n",
       " -1.117117166519165,\n",
       " -1.1141141653060913,\n",
       " -1.1111111640930176,\n",
       " -1.1081081628799438,\n",
       " -1.1051051616668701,\n",
       " -1.1021021604537964,\n",
       " -1.0990991592407227,\n",
       " -1.096096158027649,\n",
       " -1.0930931568145752,\n",
       " -1.0900901556015015,\n",
       " -1.0870871543884277,\n",
       " -1.084084153175354,\n",
       " -1.0810811519622803,\n",
       " -1.0780781507492065,\n",
       " -1.0750751495361328,\n",
       " -1.072072148323059,\n",
       " -1.0690691471099854,\n",
       " -1.0660661458969116,\n",
       " -1.063063144683838,\n",
       " -1.0600601434707642,\n",
       " -1.0570571422576904,\n",
       " -1.0540540218353271,\n",
       " -1.0510510206222534,\n",
       " -1.0480480194091797,\n",
       " -1.045045018196106,\n",
       " -1.0420420169830322,\n",
       " -1.0390390157699585,\n",
       " -1.0360360145568848,\n",
       " -1.033033013343811,\n",
       " -1.0300300121307373,\n",
       " -1.0270270109176636,\n",
       " -1.0240240097045898,\n",
       " -1.0210210084915161,\n",
       " -1.0180180072784424,\n",
       " -1.0150150060653687,\n",
       " -1.012012004852295,\n",
       " -1.0090090036392212,\n",
       " -1.0060060024261475,\n",
       " -1.0030030012130737,\n",
       " -1.0,\n",
       " -0.9969969987869263,\n",
       " -0.9939939975738525,\n",
       " -0.9909909963607788,\n",
       " -0.9879879951477051,\n",
       " -0.9849849939346313,\n",
       " -0.9819819927215576,\n",
       " -0.9789789915084839,\n",
       " -0.9759759902954102,\n",
       " -0.9729729890823364,\n",
       " -0.9699699878692627,\n",
       " -0.966966986656189,\n",
       " -0.9639639854431152,\n",
       " -0.9609609842300415,\n",
       " -0.9579579830169678,\n",
       " -0.954954981803894,\n",
       " -0.9519519805908203,\n",
       " -0.9489489793777466,\n",
       " -0.9459459781646729,\n",
       " -0.9429429769515991,\n",
       " -0.9399399757385254,\n",
       " -0.9369369745254517,\n",
       " -0.9339339733123779,\n",
       " -0.9309309720993042,\n",
       " -0.9279279708862305,\n",
       " -0.9249249696731567,\n",
       " -0.921921968460083,\n",
       " -0.9189189672470093,\n",
       " -0.9159159660339355,\n",
       " -0.9129129648208618,\n",
       " -0.9099099040031433,\n",
       " -0.9069069027900696,\n",
       " -0.9039039015769958,\n",
       " -0.9009009003639221,\n",
       " -0.8978978991508484,\n",
       " -0.8948948979377747,\n",
       " -0.8918918967247009,\n",
       " -0.8888888955116272,\n",
       " -0.8858858942985535,\n",
       " -0.8828828930854797,\n",
       " -0.879879891872406,\n",
       " -0.8768768906593323,\n",
       " -0.8738738894462585,\n",
       " -0.8708708882331848,\n",
       " -0.8678678870201111,\n",
       " -0.8648648858070374,\n",
       " -0.8618618845939636,\n",
       " -0.8588588833808899,\n",
       " -0.8558558821678162,\n",
       " -0.8528528809547424,\n",
       " -0.8498498797416687,\n",
       " -0.846846878528595,\n",
       " -0.8438438773155212,\n",
       " -0.8408408761024475,\n",
       " -0.8378378748893738,\n",
       " -0.8348348736763,\n",
       " -0.8318318724632263,\n",
       " -0.8288288712501526,\n",
       " -0.8258258700370789,\n",
       " -0.8228228688240051,\n",
       " -0.8198198676109314,\n",
       " -0.8168168067932129,\n",
       " -0.8138138055801392,\n",
       " -0.8108108043670654,\n",
       " -0.8078078031539917,\n",
       " -0.804804801940918,\n",
       " -0.8018018007278442,\n",
       " -0.7987987995147705,\n",
       " -0.7957957983016968,\n",
       " -0.792792797088623,\n",
       " -0.7897897958755493,\n",
       " -0.7867867946624756,\n",
       " -0.7837837934494019,\n",
       " -0.7807807922363281,\n",
       " -0.7777777910232544,\n",
       " -0.7747747898101807,\n",
       " -0.7717717885971069,\n",
       " -0.7687687873840332,\n",
       " -0.7657657861709595,\n",
       " -0.7627627849578857,\n",
       " -0.759759783744812,\n",
       " -0.7567567825317383,\n",
       " -0.7537537813186646,\n",
       " -0.7507507801055908,\n",
       " -0.7477477788925171,\n",
       " -0.7447447776794434,\n",
       " -0.7417417764663696,\n",
       " -0.7387387752532959,\n",
       " -0.7357357740402222,\n",
       " -0.7327327728271484,\n",
       " -0.7297297716140747,\n",
       " -0.726726770401001,\n",
       " -0.7237237691879272,\n",
       " -0.7207207679748535,\n",
       " -0.717717707157135,\n",
       " -0.7147147059440613,\n",
       " -0.7117117047309875,\n",
       " -0.7087087035179138,\n",
       " -0.7057057023048401,\n",
       " -0.7027027010917664,\n",
       " -0.6996996998786926,\n",
       " -0.6966966986656189,\n",
       " -0.6936936974525452,\n",
       " -0.6906906962394714,\n",
       " -0.6876876950263977,\n",
       " -0.684684693813324,\n",
       " -0.6816816926002502,\n",
       " -0.6786786913871765,\n",
       " -0.6756756901741028,\n",
       " -0.672672688961029,\n",
       " -0.6696696877479553,\n",
       " -0.6666666865348816,\n",
       " -0.6636636853218079,\n",
       " -0.6606606841087341,\n",
       " -0.6576576828956604,\n",
       " -0.6546546816825867,\n",
       " -0.6516516804695129,\n",
       " -0.6486486792564392,\n",
       " -0.6456456780433655,\n",
       " -0.6426426768302917,\n",
       " -0.639639675617218,\n",
       " -0.6366366744041443,\n",
       " -0.6336336731910706,\n",
       " -0.6306306719779968,\n",
       " -0.6276276707649231,\n",
       " -0.6246246099472046,\n",
       " -0.6216216087341309,\n",
       " -0.6186186075210571,\n",
       " -0.6156156063079834,\n",
       " -0.6126126050949097,\n",
       " -0.6096096038818359,\n",
       " -0.6066066026687622,\n",
       " -0.6036036014556885,\n",
       " -0.6006006002426147,\n",
       " -0.597597599029541,\n",
       " -0.5945945978164673,\n",
       " -0.5915915966033936,\n",
       " -0.5885885953903198,\n",
       " -0.5855855941772461,\n",
       " -0.5825825929641724,\n",
       " -0.5795795917510986,\n",
       " -0.5765765905380249,\n",
       " -0.5735735893249512,\n",
       " -0.5705705881118774,\n",
       " -0.5675675868988037,\n",
       " -0.56456458568573,\n",
       " -0.5615615844726562,\n",
       " -0.5585585832595825,\n",
       " -0.5555555820465088,\n",
       " -0.5525525808334351,\n",
       " -0.5495495796203613,\n",
       " -0.5465465784072876,\n",
       " -0.5435435771942139,\n",
       " -0.5405405759811401,\n",
       " -0.5375375747680664,\n",
       " -0.5345345735549927,\n",
       " -0.531531572341919,\n",
       " -0.5285285711288452,\n",
       " -0.5255255103111267,\n",
       " -0.522522509098053,\n",
       " -0.5195195078849792,\n",
       " -0.5165165066719055,\n",
       " -0.5135135054588318,\n",
       " -0.5105105042457581,\n",
       " -0.5075075030326843,\n",
       " -0.5045045018196106,\n",
       " -0.5015015006065369,\n",
       " -0.49849849939346313,\n",
       " -0.4954954981803894,\n",
       " -0.4924924969673157,\n",
       " -0.48948949575424194,\n",
       " -0.4864864945411682,\n",
       " -0.4834834933280945,\n",
       " -0.48048049211502075,\n",
       " -0.477477490901947,\n",
       " -0.4744744896888733,\n",
       " -0.47147148847579956,\n",
       " -0.46846848726272583,\n",
       " -0.4654654860496521,\n",
       " -0.46246248483657837,\n",
       " -0.45945948362350464,\n",
       " -0.4564564824104309,\n",
       " -0.4534534513950348,\n",
       " -0.45045045018196106,\n",
       " -0.44744744896888733,\n",
       " -0.4444444477558136,\n",
       " -0.44144144654273987,\n",
       " -0.43843844532966614,\n",
       " -0.4354354441165924,\n",
       " -0.4324324429035187,\n",
       " -0.42942944169044495,\n",
       " -0.4264264404773712,\n",
       " -0.4234234392642975,\n",
       " -0.42042043805122375,\n",
       " -0.41741743683815,\n",
       " -0.4144144356250763,\n",
       " -0.41141143441200256,\n",
       " -0.40840840339660645,\n",
       " -0.4054054021835327,\n",
       " -0.402402400970459,\n",
       " -0.39939939975738525,\n",
       " -0.3963963985443115,\n",
       " -0.3933933973312378,\n",
       " -0.39039039611816406,\n",
       " -0.38738739490509033,\n",
       " -0.3843843936920166,\n",
       " -0.38138139247894287,\n",
       " -0.37837839126586914,\n",
       " -0.3753753900527954,\n",
       " -0.3723723888397217,\n",
       " -0.36936938762664795,\n",
       " -0.3663663864135742,\n",
       " -0.3633633852005005,\n",
       " -0.36036038398742676,\n",
       " -0.35735735297203064,\n",
       " -0.3543543517589569,\n",
       " -0.3513513505458832,\n",
       " -0.34834834933280945,\n",
       " -0.3453453481197357,\n",
       " -0.342342346906662,\n",
       " -0.33933934569358826,\n",
       " -0.3363363444805145,\n",
       " -0.3333333432674408,\n",
       " -0.33033034205436707,\n",
       " -0.32732734084129333,\n",
       " -0.3243243396282196,\n",
       " -0.3213213384151459,\n",
       " -0.31831833720207214,\n",
       " -0.3153153359889984,\n",
       " -0.3123123049736023,\n",
       " -0.30930930376052856,\n",
       " -0.30630630254745483,\n",
       " -0.3033033013343811,\n",
       " -0.3003003001213074,\n",
       " -0.29729729890823364,\n",
       " -0.2942942976951599,\n",
       " -0.2912912964820862,\n",
       " -0.28828829526901245,\n",
       " -0.2852852940559387,\n",
       " -0.282282292842865,\n",
       " -0.27927929162979126,\n",
       " -0.27627629041671753,\n",
       " -0.2732732892036438,\n",
       " -0.27027028799057007,\n",
       " -0.26726728677749634,\n",
       " -0.2642642855644226,\n",
       " -0.2612612545490265,\n",
       " -0.25825825333595276,\n",
       " -0.25525525212287903,\n",
       " -0.2522522509098053,\n",
       " -0.24924924969673157,\n",
       " -0.24624624848365784,\n",
       " -0.2432432472705841,\n",
       " -0.24024024605751038,\n",
       " -0.23723724484443665,\n",
       " -0.23423424363136292,\n",
       " -0.23123124241828918,\n",
       " -0.22822824120521545,\n",
       " -0.22522522509098053,\n",
       " -0.2222222238779068,\n",
       " -0.21921922266483307,\n",
       " -0.21621622145175934,\n",
       " -0.2132132202386856,\n",
       " -0.21021021902561188,\n",
       " -0.20720721781253815,\n",
       " -0.20420420169830322,\n",
       " -0.2012012004852295,\n",
       " -0.19819819927215576,\n",
       " -0.19519519805908203,\n",
       " -0.1921921968460083,\n",
       " -0.18918919563293457,\n",
       " -0.18618619441986084,\n",
       " -0.1831831932067871,\n",
       " -0.18018019199371338,\n",
       " -0.17717717587947845,\n",
       " -0.17417417466640472,\n",
       " -0.171171173453331,\n",
       " -0.16816817224025726,\n",
       " -0.16516517102718353,\n",
       " -0.1621621698141098,\n",
       " -0.15915916860103607,\n",
       " -0.15615615248680115,\n",
       " -0.15315315127372742,\n",
       " -0.1501501500606537,\n",
       " -0.14714714884757996,\n",
       " -0.14414414763450623,\n",
       " -0.1411411464214325,\n",
       " -0.13813814520835876,\n",
       " -0.13513514399528503,\n",
       " -0.1321321427822113,\n",
       " -0.12912912666797638,\n",
       " -0.12612612545490265,\n",
       " -0.12312312424182892,\n",
       " -0.12012012302875519,\n",
       " -0.11711712181568146,\n",
       " -0.11411412060260773,\n",
       " -0.1111111119389534,\n",
       " -0.10810811072587967,\n",
       " -0.10510510951280594,\n",
       " -0.10210210084915161,\n",
       " -0.09909909963607788,\n",
       " -0.09609609842300415,\n",
       " -0.09309309720993042,\n",
       " -0.09009009599685669,\n",
       " -0.08708708733320236,\n",
       " -0.08408408612012863,\n",
       " -0.0810810849070549,\n",
       " -0.07807807624340057,\n",
       " -0.07507507503032684,\n",
       " -0.07207207381725311,\n",
       " -0.06906907260417938,\n",
       " -0.06606607139110565,\n",
       " -0.06306306272745132,\n",
       " -0.060060061514377594,\n",
       " -0.057057060301303864,\n",
       " -0.054054055362939835,\n",
       " -0.051051050424575806,\n",
       " -0.048048049211502075,\n",
       " -0.045045047998428345,\n",
       " -0.042042043060064316,\n",
       " -0.03903903812170029,\n",
       " -0.036036036908626556,\n",
       " -0.033033035695552826,\n",
       " -0.030030030757188797,\n",
       " -0.027027027681469917,\n",
       " -0.024024024605751038,\n",
       " -0.021021021530032158,\n",
       " -0.018018018454313278,\n",
       " -0.015015015378594398,\n",
       " -0.012012012302875519,\n",
       " -0.009009009227156639,\n",
       " -0.006006006151437759,\n",
       " -0.0030030030757188797,\n",
       " 0.0]"
      ]
     },
     "execution_count": 51,
     "metadata": {},
     "output_type": "execute_result"
    }
   ],
   "source": [
    "lri"
   ]
  },
  {
   "cell_type": "code",
   "execution_count": 52,
   "metadata": {},
   "outputs": [
    {
     "data": {
      "text/plain": [
       "[<matplotlib.lines.Line2D at 0x1397f34d0>]"
      ]
     },
     "execution_count": 52,
     "metadata": {},
     "output_type": "execute_result"
    },
    {
     "data": {
      "image/png": "[encoded data removed]",
      "text/plain": [
       "<Figure size 640x480 with 1 Axes>"
      ]
     },
     "metadata": {},
     "output_type": "display_data"
    }
   ],
   "source": [
    "plt.plot(lri, lossi)"
   ]
  },
  {
   "cell_type": "code",
   "execution_count": 68,
   "metadata": {},
   "outputs": [],
   "source": [
    "g = torch.Generator().manual_seed(2147483647)\n",
    "\n",
    "C = torch.randn((27, 10), generator=g, requires_grad=True)\n",
    "\n",
    "W1 = torch.randn((30, 200), generator=g, requires_grad=True)\n",
    "b1 = torch.randn(200, generator=g, requires_grad=True)\n",
    "\n",
    "W2 = torch.randn((200, 27), generator=g, requires_grad=True)\n",
    "b2 = torch.randn(27, generator=g, requires_grad=True)\n",
    "\n",
    "parameters = [C, W1, b1, W2, b2]"
   ]
  },
  {
   "cell_type": "code",
   "execution_count": 69,
   "metadata": {},
   "outputs": [
    {
     "data": {
      "text/plain": [
       "11897"
      ]
     },
     "execution_count": 69,
     "metadata": {},
     "output_type": "execute_result"
    }
   ],
   "source": [
    "sum(p.nelement() for p in parameters)"
   ]
  },
  {
   "cell_type": "code",
   "execution_count": 70,
   "metadata": {},
   "outputs": [],
   "source": [
    "lri = []\n",
    "lossi = []\n",
    "stepi = []"
   ]
  },
  {
   "cell_type": "code",
   "execution_count": 93,
   "metadata": {},
   "outputs": [
    {
     "name": "stdout",
     "output_type": "stream",
     "text": [
      "tensor(1.9637, grad_fn=<NllLossBackward0>)\n"
     ]
    }
   ],
   "source": [
    "for i in range(100000):\n",
    "\n",
    "    # Adding MiniBatch Gradient Descent\n",
    "    ix = torch.randint(0, Xtr.shape[0], (32,))\n",
    "    \n",
    "    # Forward Pass\n",
    "    emb = C[Xtr[ix]]\n",
    "\n",
    "    h = torch.tanh(emb.view(emb.shape[0],30) @ W1 + b1)\n",
    "\n",
    "    logits = h @ W2 + b2\n",
    "\n",
    "    loss = F.cross_entropy(logits, Ytr[ix])\n",
    "\n",
    "\n",
    "    # print(loss.item())\n",
    "\n",
    "    ## Backward pass \n",
    "\n",
    "    for p in parameters:\n",
    "        p.grad = None\n",
    "\n",
    "    loss.backward()\n",
    "\n",
    "    ## Update\n",
    "\n",
    "    ## Trying to find optimal learning rate\n",
    "    lr = 0.1 / 2\n",
    "    for p in parameters: \n",
    "        p.data += -lr * p.grad\n",
    "        \n",
    "    stepi.append(i)\n",
    "    lossi.append(loss.log10().item())\n",
    "\n",
    "print(loss)\n"
   ]
  },
  {
   "cell_type": "code",
   "execution_count": 94,
   "metadata": {},
   "outputs": [
    {
     "data": {
      "text/plain": [
       "[<matplotlib.lines.Line2D at 0x14fc3e0d0>]"
      ]
     },
     "execution_count": 94,
     "metadata": {},
     "output_type": "execute_result"
    },
    {
     "data": {
      "image/png": "[encoded data removed]",
      "text/plain": [
       "<Figure size 640x480 with 1 Axes>"
      ]
     },
     "metadata": {},
     "output_type": "display_data"
    }
   ],
   "source": [
    "plt.plot(stepi, lossi)"
   ]
  },
  {
   "cell_type": "markdown",
   "metadata": {},
   "source": [
    "### Train"
   ]
  },
  {
   "cell_type": "code",
   "execution_count": 95,
   "metadata": {},
   "outputs": [
    {
     "data": {
      "text/plain": [
       "tensor(2.1528, grad_fn=<NllLossBackward0>)"
      ]
     },
     "execution_count": 95,
     "metadata": {},
     "output_type": "execute_result"
    }
   ],
   "source": [
    "emb = C[Xtr]\n",
    "\n",
    "h = torch.tanh(emb.view(emb.shape[0], 30) @ W1 + b1)\n",
    "\n",
    "logits = h @ W2 + b2\n",
    "\n",
    "loss = F.cross_entropy(logits, Ytr)\n",
    "\n",
    "loss"
   ]
  },
  {
   "cell_type": "markdown",
   "metadata": {},
   "source": [
    "### Validation"
   ]
  },
  {
   "cell_type": "code",
   "execution_count": 96,
   "metadata": {},
   "outputs": [
    {
     "data": {
      "text/plain": [
       "tensor(2.2105, grad_fn=<NllLossBackward0>)"
      ]
     },
     "execution_count": 96,
     "metadata": {},
     "output_type": "execute_result"
    }
   ],
   "source": [
    "emb = C[Xdev]\n",
    "\n",
    "h = torch.tanh(emb.view(emb.shape[0], 30) @ W1 + b1)\n",
    "\n",
    "logits = h @ W2 + b2\n",
    "\n",
    "loss = F.cross_entropy(logits, Ydev)\n",
    "\n",
    "loss"
   ]
  },
  {
   "cell_type": "code",
   "execution_count": null,
   "metadata": {},
   "outputs": [],
   "source": [
    "## Training Split, Validation Split, Test Split \n",
    "# 80%, 10%, 10%"
   ]
  },
  {
   "cell_type": "markdown",
   "metadata": {},
   "source": [
    "### Visualizing Character embedding matrix"
   ]
  },
  {
   "cell_type": "code",
   "execution_count": 97,
   "metadata": {},
   "outputs": [
    {
     "data": {
      "image/png": "[encoded data removed]",
      "text/plain": [
       "<Figure size 800x800 with 1 Axes>"
      ]
     },
     "metadata": {},
     "output_type": "display_data"
    }
   ],
   "source": [
    "plt.figure(figsize=(8, 8))\n",
    "\n",
    "plt.scatter(C[:, 0].data, C[:, 1].data, s=200)\n",
    "\n",
    "for i in range(C.shape[0]):\n",
    "    plt.text(C[i,0].item(), C[i, 1].item(), itos[i], ha=\"center\", va=\"center\", color=\"white\")\n",
    "\n",
    "plt.grid('minor')"
   ]
  },
  {
   "cell_type": "code",
   "execution_count": null,
   "metadata": {},
   "outputs": [],
   "source": []
  }
 ],
 "metadata": {
  "kernelspec": {
   "display_name": ".venv",
   "language": "python",
   "name": "python3"
  },
  "language_info": {
   "codemirror_mode": {
    "name": "ipython",
    "version": 3
   },
   "file_extension": ".py",
   "mimetype": "text/x-python",
   "name": "python",
   "nbconvert_exporter": "python",
   "pygments_lexer": "ipython3",
   "version": "3.13.1"
  }
 },
 "nbformat": 4,
 "nbformat_minor": 2
}
