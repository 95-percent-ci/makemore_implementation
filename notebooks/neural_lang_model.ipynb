{
 "cells": [
  {
   "cell_type": "code",
   "execution_count": 1,
   "metadata": {},
   "outputs": [],
   "source": [
    "import torch\n",
    "import torch.nn.functional as F\n",
    "import matplotlib.pyplot as plt \n",
    "%matplotlib inline"
   ]
  },
  {
   "cell_type": "code",
   "execution_count": 2,
   "metadata": {},
   "outputs": [],
   "source": [
    "import numpy as np"
   ]
  },
  {
   "cell_type": "code",
   "execution_count": 3,
   "metadata": {},
   "outputs": [],
   "source": [
    "import os\n",
    "os.chdir(\"../\")"
   ]
  },
  {
   "cell_type": "code",
   "execution_count": 4,
   "metadata": {},
   "outputs": [],
   "source": [
    "import copy"
   ]
  },
  {
   "cell_type": "code",
   "execution_count": 5,
   "metadata": {},
   "outputs": [
    {
     "data": {
      "text/plain": [
       "['emma', 'olivia', 'ava', 'isabella', 'sophia', 'charlotte', 'mia', 'amelia']"
      ]
     },
     "execution_count": 5,
     "metadata": {},
     "output_type": "execute_result"
    }
   ],
   "source": [
    "words = open('data/names.txt', 'r').read().splitlines()\n",
    "words[:8]"
   ]
  },
  {
   "cell_type": "code",
   "execution_count": 6,
   "metadata": {},
   "outputs": [
    {
     "data": {
      "text/plain": [
       "32033"
      ]
     },
     "execution_count": 6,
     "metadata": {},
     "output_type": "execute_result"
    }
   ],
   "source": [
    "len(words)"
   ]
  },
  {
   "cell_type": "code",
   "execution_count": 7,
   "metadata": {},
   "outputs": [],
   "source": [
    "## building vocab of chars & mapping to/from integers\n",
    "\n",
    "chars = sorted(list(set(''.join(words))))\n",
    "stoi = {s:i + 1 for i,s in enumerate(chars)}\n",
    "stoi[\".\"] = 0\n",
    "itos = {i:s for s,i in stoi.items()}"
   ]
  },
  {
   "cell_type": "code",
   "execution_count": 8,
   "metadata": {},
   "outputs": [
    {
     "name": "stdout",
     "output_type": "stream",
     "text": [
      "{1: 'a', 2: 'b', 3: 'c', 4: 'd', 5: 'e', 6: 'f', 7: 'g', 8: 'h', 9: 'i', 10: 'j', 11: 'k', 12: 'l', 13: 'm', 14: 'n', 15: 'o', 16: 'p', 17: 'q', 18: 'r', 19: 's', 20: 't', 21: 'u', 22: 'v', 23: 'w', 24: 'x', 25: 'y', 26: 'z', 0: '.'}\n"
     ]
    }
   ],
   "source": [
    "print(itos)"
   ]
  },
  {
   "cell_type": "code",
   "execution_count": 10,
   "metadata": {},
   "outputs": [],
   "source": [
    "## Building the data set\n",
    "\n",
    "block_size = 3 ## context length: How many chars to take to predict the next one?\n",
    "\n",
    "X, Y = [], []\n",
    "\n",
    "for w in words:\n",
    "    context = [0] * block_size # -> 1st Iter [0, 0, 0]\n",
    "    \n",
    "    for ch in w + \".\":\n",
    "\n",
    "        ix = stoi[ch] ## Encoded values of character\n",
    "        \n",
    "        X.append(context) ## 1st Iter [0, 0, 0]\n",
    "        Y.append(ix) ## 1st Iter [itos[ch]]\n",
    "\n",
    "        context = context[1:] + [ix] ## Rolling Operation\n",
    "\n",
    "X = torch.tensor(X)\n",
    "Y = torch.tensor(Y)"
   ]
  },
  {
   "cell_type": "markdown",
   "metadata": {},
   "source": [
    "#### Understanding Generated X Shape & Y Shape\n",
    "\n",
    "1. X shape is (N, Context Size). Where N is number of input samples generated while creating X, Y Pairs and Context Size is defined above\n",
    "\n",
    "2. Y Shape is (N). For each Input Sample, it contains the next character Output"
   ]
  },
  {
   "cell_type": "code",
   "execution_count": 11,
   "metadata": {},
   "outputs": [
    {
     "data": {
      "text/plain": [
       "(torch.Size([228146, 3]), torch.int64)"
      ]
     },
     "execution_count": 11,
     "metadata": {},
     "output_type": "execute_result"
    }
   ],
   "source": [
    "X.shape, X.dtype, "
   ]
  },
  {
   "cell_type": "code",
   "execution_count": 12,
   "metadata": {},
   "outputs": [
    {
     "data": {
      "text/plain": [
       "(torch.Size([228146]), torch.int64)"
      ]
     },
     "execution_count": 12,
     "metadata": {},
     "output_type": "execute_result"
    }
   ],
   "source": [
    "Y.shape, Y.dtype"
   ]
  },
  {
   "cell_type": "markdown",
   "metadata": {},
   "source": [
    "## Projecting characters into 2 Dimensional Space (Embedding Look Up Table)\n",
    "\n",
    "Number of Chars: 27\n",
    "\n",
    "Dimensions: 2"
   ]
  },
  {
   "cell_type": "code",
   "execution_count": 13,
   "metadata": {},
   "outputs": [],
   "source": [
    "C = torch.randn((27, 2))"
   ]
  },
  {
   "cell_type": "markdown",
   "metadata": {},
   "source": [
    "### Accessing entries of Look-Up Matrix C"
   ]
  },
  {
   "cell_type": "code",
   "execution_count": 14,
   "metadata": {},
   "outputs": [
    {
     "data": {
      "text/plain": [
       "tensor([0.5470, 0.7325])"
      ]
     },
     "execution_count": 14,
     "metadata": {},
     "output_type": "execute_result"
    }
   ],
   "source": [
    "## For 5 encoded char \"e\"\n",
    "## itos[5]\n",
    "C[5]"
   ]
  },
  {
   "cell_type": "code",
   "execution_count": 15,
   "metadata": {},
   "outputs": [
    {
     "data": {
      "text/plain": [
       "tensor([0.2060, 1.3260])"
      ]
     },
     "execution_count": 15,
     "metadata": {},
     "output_type": "execute_result"
    }
   ],
   "source": [
    "## For 0 encoded char \"a\"\n",
    "## itos[5]\n",
    "C[0]"
   ]
  },
  {
   "cell_type": "code",
   "execution_count": 16,
   "metadata": {},
   "outputs": [
    {
     "data": {
      "text/plain": [
       "tensor([0.5470, 0.7325])"
      ]
     },
     "execution_count": 16,
     "metadata": {},
     "output_type": "execute_result"
    }
   ],
   "source": [
    "## Is there a better way to index Look Up Matrix?\n",
    "## Yes One Hot Encoding\n",
    "F.one_hot(torch.tensor(5), num_classes=27).float() @ C"
   ]
  },
  {
   "cell_type": "code",
   "execution_count": 17,
   "metadata": {},
   "outputs": [
    {
     "data": {
      "text/plain": [
       "tensor([[0.5470, 0.7325],\n",
       "        [0.2060, 1.3260]])"
      ]
     },
     "execution_count": 17,
     "metadata": {},
     "output_type": "execute_result"
    }
   ],
   "source": [
    "## First Layer of Neural Language Model is essentially, look up into Embedding matrices for Provide Input\n",
    "\n",
    "### Getting values for 5th Row & 0th Row simultaneously\n",
    "C[[5, 0]]"
   ]
  },
  {
   "cell_type": "code",
   "execution_count": 18,
   "metadata": {},
   "outputs": [
    {
     "data": {
      "text/plain": [
       "tensor([[ 0.5470,  0.7325],\n",
       "        [ 2.5901,  0.8280],\n",
       "        [-0.5639, -0.2117],\n",
       "        [-0.5639, -0.2117],\n",
       "        [-0.5639, -0.2117]])"
      ]
     },
     "execution_count": 18,
     "metadata": {},
     "output_type": "execute_result"
    }
   ],
   "source": [
    "### Getting values for 5th Row , 6th Row & 7th Row ,7th Row, 7th Row simultaneously\n",
    "\n",
    "C[torch.tensor([5, 6, 7, 7, 7])]"
   ]
  },
  {
   "cell_type": "code",
   "execution_count": 19,
   "metadata": {},
   "outputs": [
    {
     "data": {
      "text/plain": [
       "(torch.Size([228146, 3]), torch.int64)"
      ]
     },
     "execution_count": 19,
     "metadata": {},
     "output_type": "execute_result"
    }
   ],
   "source": [
    "X.shape, X.dtype, "
   ]
  },
  {
   "cell_type": "markdown",
   "metadata": {},
   "source": [
    "### How can I get Embedding Look Up entries for X Input `[N, Context Size]`"
   ]
  },
  {
   "cell_type": "code",
   "execution_count": 20,
   "metadata": {},
   "outputs": [],
   "source": [
    "## Slicing X Tensor for Single word emma (1st name in data)\n",
    "X_single_name = X[0:4, :]"
   ]
  },
  {
   "cell_type": "code",
   "execution_count": 21,
   "metadata": {},
   "outputs": [
    {
     "data": {
      "text/plain": [
       "tensor([[ 0,  0,  0],\n",
       "        [ 0,  0,  5],\n",
       "        [ 0,  5, 13],\n",
       "        [ 5, 13, 13]])"
      ]
     },
     "execution_count": 21,
     "metadata": {},
     "output_type": "execute_result"
    }
   ],
   "source": [
    "X_single_name"
   ]
  },
  {
   "cell_type": "code",
   "execution_count": 22,
   "metadata": {},
   "outputs": [
    {
     "data": {
      "text/plain": [
       "(tensor([[[ 0.2060,  1.3260],\n",
       "          [ 0.2060,  1.3260],\n",
       "          [ 0.2060,  1.3260]],\n",
       " \n",
       "         [[ 0.2060,  1.3260],\n",
       "          [ 0.2060,  1.3260],\n",
       "          [ 0.5470,  0.7325]],\n",
       " \n",
       "         [[ 0.2060,  1.3260],\n",
       "          [ 0.5470,  0.7325],\n",
       "          [-0.5350, -0.9500]],\n",
       " \n",
       "         [[ 0.5470,  0.7325],\n",
       "          [-0.5350, -0.9500],\n",
       "          [-0.5350, -0.9500]]]),\n",
       " torch.Size([4, 3, 2]))"
      ]
     },
     "execution_count": 22,
     "metadata": {},
     "output_type": "execute_result"
    }
   ],
   "source": [
    "## In each row of X\n",
    "## Number of encoded chars == context sizr\n",
    "## For each encodeed chars -> (, 2) shape Look-Up Embedding Table output\n",
    "\n",
    "## End Shape would look like\n",
    "## (N, Context_Size, Embedding Dim)\n",
    "C[X_single_name], C[X_single_name].shape"
   ]
  },
  {
   "cell_type": "code",
   "execution_count": 23,
   "metadata": {},
   "outputs": [
    {
     "data": {
      "text/plain": [
       "tensor(1)"
      ]
     },
     "execution_count": 23,
     "metadata": {},
     "output_type": "execute_result"
    }
   ],
   "source": [
    "X[13, 2]"
   ]
  },
  {
   "cell_type": "code",
   "execution_count": 24,
   "metadata": {},
   "outputs": [
    {
     "data": {
      "text/plain": [
       "tensor([-1.5832, -0.8523])"
      ]
     },
     "execution_count": 24,
     "metadata": {},
     "output_type": "execute_result"
    }
   ],
   "source": [
    "C[X][13,2]"
   ]
  },
  {
   "cell_type": "code",
   "execution_count": 25,
   "metadata": {},
   "outputs": [
    {
     "data": {
      "text/plain": [
       "tensor([-1.5832, -0.8523])"
      ]
     },
     "execution_count": 25,
     "metadata": {},
     "output_type": "execute_result"
    }
   ],
   "source": [
    "C[1]"
   ]
  },
  {
   "cell_type": "code",
   "execution_count": 26,
   "metadata": {},
   "outputs": [
    {
     "data": {
      "text/plain": [
       "torch.Size([228146, 3, 2])"
      ]
     },
     "execution_count": 26,
     "metadata": {},
     "output_type": "execute_result"
    }
   ],
   "source": [
    "## We can embedd directly by passing X into C and it should work!\n",
    "\n",
    "emb = C[X]\n",
    "emb.shape"
   ]
  },
  {
   "cell_type": "code",
   "execution_count": 27,
   "metadata": {},
   "outputs": [],
   "source": [
    "### Constructing Hidden Layer\n",
    "\n",
    "W1 = torch.randn((6, 100))\n",
    "b1 = torch.randn(100)"
   ]
  },
  {
   "cell_type": "code",
   "execution_count": 28,
   "metadata": {},
   "outputs": [
    {
     "data": {
      "text/plain": [
       "torch.Size([228146, 6])"
      ]
     },
     "execution_count": 28,
     "metadata": {},
     "output_type": "execute_result"
    }
   ],
   "source": [
    "### Embedding which is input to Hidden Layer has shape of [N, context, embedding dimension] -> (32, 3, 2)\n",
    "### While Hidden layer neuron shape is (context * embedding dimension, hidden_dim) -> (6, 100)\n",
    "\n",
    "### Last 2 dimensions of embedding layer needs to combined together so that shape matches for matmul\n",
    "\n",
    "### One way to solve is to use torch cat function\n",
    "\n",
    "torch.cat([emb[:, 0, :], emb[:, 1, :], emb[:, 2, :]], dim=1).shape"
   ]
  },
  {
   "cell_type": "code",
   "execution_count": 29,
   "metadata": {},
   "outputs": [
    {
     "data": {
      "text/plain": [
       "torch.Size([228146, 6])"
      ]
     },
     "execution_count": 29,
     "metadata": {},
     "output_type": "execute_result"
    }
   ],
   "source": [
    "torch.cat([emb[:, 0, :], emb[:, 1, :], emb[:, 2, :]], dim=1).shape"
   ]
  },
  {
   "cell_type": "code",
   "execution_count": 30,
   "metadata": {},
   "outputs": [
    {
     "data": {
      "text/plain": [
       "tensor([[ 0.2060,  1.3260,  0.2060,  1.3260,  0.2060,  1.3260],\n",
       "        [ 0.2060,  1.3260,  0.2060,  1.3260,  0.5470,  0.7325],\n",
       "        [ 0.2060,  1.3260,  0.5470,  0.7325, -0.5350, -0.9500],\n",
       "        ...,\n",
       "        [-0.5245,  0.7753, -0.5245,  0.7753,  1.6295, -2.1128],\n",
       "        [-0.5245,  0.7753,  1.6295, -2.1128, -0.5245,  0.7753],\n",
       "        [ 1.6295, -2.1128, -0.5245,  0.7753, -0.4277, -0.2231]])"
      ]
     },
     "execution_count": 30,
     "metadata": {},
     "output_type": "execute_result"
    }
   ],
   "source": [
    "### More generic way would be use torch unbind and then use torch cat\n",
    "### Unbinding is done on dimension where context size is defined\n",
    "\n",
    "torch.cat(torch.unbind(emb, dim=1), dim=1)"
   ]
  },
  {
   "cell_type": "code",
   "execution_count": 31,
   "metadata": {},
   "outputs": [],
   "source": [
    "Input_Embedding_Proj = copy.deepcopy(C[X])"
   ]
  },
  {
   "cell_type": "code",
   "execution_count": 32,
   "metadata": {},
   "outputs": [
    {
     "data": {
      "text/plain": [
       "torch.Size([228146, 3, 2])"
      ]
     },
     "execution_count": 32,
     "metadata": {},
     "output_type": "execute_result"
    }
   ],
   "source": [
    "Input_Embedding_Proj.shape"
   ]
  },
  {
   "cell_type": "code",
   "execution_count": 33,
   "metadata": {},
   "outputs": [
    {
     "data": {
      "text/plain": [
       "tensor([ 0,  1,  2,  3,  4,  5,  6,  7,  8,  9, 10, 11, 12, 13, 14, 15, 16, 17])"
      ]
     },
     "execution_count": 33,
     "metadata": {},
     "output_type": "execute_result"
    }
   ],
   "source": [
    "#### Easier way to do this\n",
    "\n",
    "a = torch.arange(18)\n",
    "a "
   ]
  },
  {
   "cell_type": "code",
   "execution_count": 34,
   "metadata": {},
   "outputs": [
    {
     "data": {
      "text/plain": [
       "tensor([[ 0,  1,  2,  3,  4,  5,  6,  7,  8],\n",
       "        [ 9, 10, 11, 12, 13, 14, 15, 16, 17]])"
      ]
     },
     "execution_count": 34,
     "metadata": {},
     "output_type": "execute_result"
    }
   ],
   "source": [
    "a.view(2, 9)"
   ]
  },
  {
   "cell_type": "code",
   "execution_count": 35,
   "metadata": {},
   "outputs": [
    {
     "data": {
      "text/plain": [
       "tensor([[ 0,  1],\n",
       "        [ 2,  3],\n",
       "        [ 4,  5],\n",
       "        [ 6,  7],\n",
       "        [ 8,  9],\n",
       "        [10, 11],\n",
       "        [12, 13],\n",
       "        [14, 15],\n",
       "        [16, 17]])"
      ]
     },
     "execution_count": 35,
     "metadata": {},
     "output_type": "execute_result"
    }
   ],
   "source": [
    "a.view(9, 2)"
   ]
  },
  {
   "cell_type": "code",
   "execution_count": 36,
   "metadata": {},
   "outputs": [
    {
     "data": {
      "text/plain": [
       "torch.Size([228146, 3, 2])"
      ]
     },
     "execution_count": 36,
     "metadata": {},
     "output_type": "execute_result"
    }
   ],
   "source": [
    "emb.shape"
   ]
  },
  {
   "cell_type": "code",
   "execution_count": 38,
   "metadata": {},
   "outputs": [],
   "source": [
    "h = torch.tanh(emb.view(emb.shape[0], 6) @ W1 + b1)"
   ]
  },
  {
   "cell_type": "code",
   "execution_count": 39,
   "metadata": {},
   "outputs": [
    {
     "data": {
      "text/plain": [
       "tensor([[-0.9998,  0.9995,  0.9913,  ..., -1.0000, -0.9991, -0.9838],\n",
       "        [-1.0000,  0.9998,  0.9988,  ..., -1.0000, -0.9992, -0.9913],\n",
       "        [-1.0000,  0.9727,  0.9998,  ..., -0.9930, -0.9999, -0.9981],\n",
       "        ...,\n",
       "        [-1.0000,  0.9999,  1.0000,  ..., -0.1978, -0.9654, -0.9983],\n",
       "        [-0.5329, -0.0233, -0.9484,  ...,  0.9999,  0.9862,  0.8674],\n",
       "        [ 0.9943, -0.0609, -0.8679,  ...,  0.7585, -1.0000,  0.8208]])"
      ]
     },
     "execution_count": 39,
     "metadata": {},
     "output_type": "execute_result"
    }
   ],
   "source": [
    "h"
   ]
  },
  {
   "cell_type": "code",
   "execution_count": 40,
   "metadata": {},
   "outputs": [],
   "source": [
    "### Output Layer\n",
    "\n",
    "W2 = torch.randn((100, 27))\n",
    "b2 = torch.randn(27)"
   ]
  },
  {
   "cell_type": "code",
   "execution_count": 41,
   "metadata": {},
   "outputs": [],
   "source": [
    "logits = h @ W2 + b2"
   ]
  },
  {
   "cell_type": "code",
   "execution_count": 42,
   "metadata": {},
   "outputs": [],
   "source": [
    "loss = F.cross_entropy(logits, Y)"
   ]
  },
  {
   "cell_type": "code",
   "execution_count": 43,
   "metadata": {},
   "outputs": [
    {
     "data": {
      "text/plain": [
       "tensor(18.9258)"
      ]
     },
     "execution_count": 43,
     "metadata": {},
     "output_type": "execute_result"
    }
   ],
   "source": [
    "loss"
   ]
  },
  {
   "cell_type": "markdown",
   "metadata": {},
   "source": [
    "#### Training Loop "
   ]
  },
  {
   "cell_type": "code",
   "execution_count": 44,
   "metadata": {},
   "outputs": [
    {
     "data": {
      "text/plain": [
       "(torch.Size([228146, 3]), torch.Size([228146]))"
      ]
     },
     "execution_count": 44,
     "metadata": {},
     "output_type": "execute_result"
    }
   ],
   "source": [
    "X.shape, Y.shape ## DataSet"
   ]
  },
  {
   "cell_type": "code",
   "execution_count": 87,
   "metadata": {},
   "outputs": [],
   "source": [
    "g = torch.Generator().manual_seed(2147483647)\n",
    "\n",
    "C = torch.randn((27, 2), generator=g, requires_grad=True)\n",
    "\n",
    "W1 = torch.randn((6, 100), generator=g, requires_grad=True)\n",
    "b1 = torch.randn(100, generator=g, requires_grad=True)\n",
    "\n",
    "W2 = torch.randn((100, 27), generator=g, requires_grad=True)\n",
    "b2 = torch.randn(27, generator=g, requires_grad=True)\n",
    "\n",
    "parameters = [C, W1, b1, W2, b2]"
   ]
  },
  {
   "cell_type": "code",
   "execution_count": 88,
   "metadata": {},
   "outputs": [
    {
     "data": {
      "text/plain": [
       "3481"
      ]
     },
     "execution_count": 88,
     "metadata": {},
     "output_type": "execute_result"
    }
   ],
   "source": [
    "sum(p.nelement() for p in parameters)"
   ]
  },
  {
   "cell_type": "code",
   "execution_count": 89,
   "metadata": {},
   "outputs": [],
   "source": [
    "lre = torch.linspace(-3, 0, 1000)\n",
    "lrs = 10 ** lre"
   ]
  },
  {
   "cell_type": "code",
   "execution_count": null,
   "metadata": {},
   "outputs": [
    {
     "name": "stdout",
     "output_type": "stream",
     "text": [
      "17.666305541992188\n",
      "30.291290283203125\n",
      "31.603822708129883\n",
      "50.273311614990234\n",
      "49.95822525024414\n",
      "87.09912109375\n",
      "101.19480895996094\n",
      "122.49085235595703\n",
      "115.34754943847656\n",
      "90.31035614013672\n",
      "87.30307006835938\n",
      "88.55764770507812\n",
      "67.53502655029297\n",
      "78.29459381103516\n",
      "92.36698913574219\n",
      "60.767738342285156\n",
      "63.85088348388672\n",
      "88.06515502929688\n",
      "65.9170913696289\n",
      "59.66213607788086\n",
      "48.11647033691406\n",
      "59.767967224121094\n",
      "98.26689910888672\n",
      "59.89116668701172\n",
      "53.84268569946289\n",
      "65.12677764892578\n",
      "59.58260726928711\n",
      "53.20188522338867\n",
      "44.91386413574219\n",
      "49.427120208740234\n",
      "53.59870147705078\n",
      "62.19932174682617\n",
      "72.96302032470703\n",
      "62.54657745361328\n",
      "53.9007453918457\n",
      "47.845558166503906\n",
      "51.19365310668945\n",
      "81.28524017333984\n",
      "39.595436096191406\n",
      "54.926246643066406\n",
      "61.035823822021484\n",
      "34.24104309082031\n",
      "58.86170196533203\n",
      "47.409637451171875\n",
      "48.2187614440918\n",
      "44.01480484008789\n",
      "83.16985321044922\n",
      "52.79801940917969\n",
      "58.72315979003906\n",
      "69.07988739013672\n",
      "77.57203674316406\n",
      "77.05485534667969\n",
      "45.63193893432617\n",
      "77.07035827636719\n",
      "41.51633834838867\n",
      "67.02317810058594\n",
      "75.0718002319336\n",
      "75.85509490966797\n",
      "62.57575988769531\n",
      "59.30464553833008\n",
      "55.75096130371094\n",
      "88.71611785888672\n",
      "84.0556640625\n",
      "60.467041015625\n",
      "66.85137176513672\n",
      "85.80071258544922\n",
      "63.7987060546875\n",
      "43.57168960571289\n",
      "75.32965087890625\n",
      "76.49187469482422\n",
      "57.83563995361328\n",
      "56.743099212646484\n",
      "56.416648864746094\n",
      "63.0009765625\n",
      "51.331451416015625\n",
      "71.36724853515625\n",
      "49.40846252441406\n",
      "40.37468719482422\n",
      "43.38530731201172\n",
      "57.936283111572266\n",
      "74.345703125\n",
      "70.93132781982422\n",
      "53.69179916381836\n",
      "58.42738723754883\n",
      "68.48989868164062\n",
      "64.73554992675781\n",
      "66.6185073852539\n",
      "54.90602111816406\n",
      "64.40135192871094\n",
      "58.95087814331055\n",
      "62.82645034790039\n",
      "54.88014602661133\n",
      "109.47020721435547\n",
      "74.47731018066406\n",
      "86.66470336914062\n",
      "65.59770202636719\n",
      "58.71438980102539\n",
      "57.71434783935547\n",
      "57.97323226928711\n",
      "51.82710266113281\n",
      "51.82710266113281\n"
     ]
    }
   ],
   "source": [
    "for i in range(100):\n",
    "\n",
    "    # Adding MiniBatch Gradient Descent\n",
    "    ix = torch.randint(0, X.shape[0], (32,))\n",
    "    \n",
    "    # Forward Pass\n",
    "    emb = C[X[ix]]\n",
    "\n",
    "    h = torch.tanh(emb.view(emb.shape[0], 6) @ W1 + b1)\n",
    "\n",
    "    logits = h @ W2 + b2\n",
    "\n",
    "    loss = F.cross_entropy(logits, Y[ix])\n",
    "\n",
    "    print(loss.item())\n",
    "\n",
    "\n",
    "    ## Backward pass \n",
    "\n",
    "    for p in parameters:\n",
    "        p.grad = None\n",
    "\n",
    "    loss.backward()\n",
    "\n",
    "    ## Update\n",
    "\n",
    "    ## Trying to find optimal learning rate\n",
    "    for p in parameters:\n",
    "        p.data += -10 * p.grad\n",
    "\n",
    "print(loss.item())\n"
   ]
  },
  {
   "cell_type": "code",
   "execution_count": 72,
   "metadata": {},
   "outputs": [
    {
     "data": {
      "text/plain": [
       "tensor(2.7823, grad_fn=<NllLossBackward0>)"
      ]
     },
     "execution_count": 72,
     "metadata": {},
     "output_type": "execute_result"
    }
   ],
   "source": [
    "emb = C[X]\n",
    "\n",
    "h = torch.tanh(emb.view(emb.shape[0], 6) @ W1 + b1)\n",
    "\n",
    "logits = h @ W2 + b2\n",
    "\n",
    "loss = F.cross_entropy(logits, Y)\n",
    "\n",
    "loss"
   ]
  },
  {
   "cell_type": "code",
   "execution_count": 50,
   "metadata": {},
   "outputs": [
    {
     "data": {
      "text/plain": [
       "tensor([ 48692,  67586,  66684, 214780, 102751, 115361, 105660,  41623, 115015,\n",
       "         43001, 128232,  80338,  15714, 129476, 136848, 118974,  97678,  43229,\n",
       "         83395,  96898,  46489, 187445,   4345, 116265,   9145, 120745, 227244,\n",
       "          2695, 139178,  92462,  27427,  15323])"
      ]
     },
     "execution_count": 50,
     "metadata": {},
     "output_type": "execute_result"
    }
   ],
   "source": [
    "torch.randint(0, X.shape[0], (32,))"
   ]
  },
  {
   "cell_type": "code",
   "execution_count": 91,
   "metadata": {},
   "outputs": [
    {
     "data": {
      "text/plain": [
       "tensor([106901,  77036, 133933,   3455, 225203, 207970, 173065,  53266,  38111,\n",
       "        181991,  17254,  37707, 218742,  11206,   5349, 220088, 208875, 132827,\n",
       "         38117, 118856, 123681,  35081, 181288,  97089,  23358, 131305, 116122,\n",
       "         25171, 197165, 173775, 173288, 112720])"
      ]
     },
     "execution_count": 91,
     "metadata": {},
     "output_type": "execute_result"
    }
   ],
   "source": [
    "torch.randint(0, X.shape[0], (32,))"
   ]
  },
  {
   "cell_type": "code",
   "execution_count": null,
   "metadata": {},
   "outputs": [],
   "source": [
    "## Training Split, Validation Split, Test Split \n",
    "# 80%, 10%, 10%"
   ]
  }
 ],
 "metadata": {
  "kernelspec": {
   "display_name": ".venv",
   "language": "python",
   "name": "python3"
  },
  "language_info": {
   "codemirror_mode": {
    "name": "ipython",
    "version": 3
   },
   "file_extension": ".py",
   "mimetype": "text/x-python",
   "name": "python",
   "nbconvert_exporter": "python",
   "pygments_lexer": "ipython3",
   "version": "3.13.1"
  }
 },
 "nbformat": 4,
 "nbformat_minor": 2
}
