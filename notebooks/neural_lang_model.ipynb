{
 "cells": [
  {
   "cell_type": "code",
   "execution_count": 1,
   "metadata": {},
   "outputs": [],
   "source": [
    "import torch\n",
    "import torch.nn.functional as F\n",
    "import matplotlib.pyplot as plt # for making figures\n",
    "%matplotlib inline"
   ]
  },
  {
   "cell_type": "code",
   "execution_count": 2,
   "metadata": {},
   "outputs": [],
   "source": [
    "import os\n",
    "os.chdir(\"../\")"
   ]
  },
  {
   "cell_type": "code",
   "execution_count": 4,
   "metadata": {},
   "outputs": [
    {
     "data": {
      "text/plain": [
       "['emma', 'olivia', 'ava', 'isabella', 'sophia', 'charlotte', 'mia', 'amelia']"
      ]
     },
     "execution_count": 4,
     "metadata": {},
     "output_type": "execute_result"
    }
   ],
   "source": [
    "words = open('data/names.txt', 'r').read().splitlines()\n",
    "words[:8]"
   ]
  },
  {
   "cell_type": "code",
   "execution_count": 3,
   "metadata": {},
   "outputs": [
    {
     "data": {
      "text/plain": [
       "32033"
      ]
     },
     "execution_count": 3,
     "metadata": {},
     "output_type": "execute_result"
    }
   ],
   "source": [
    "len(words)"
   ]
  },
  {
   "cell_type": "code",
   "execution_count": 5,
   "metadata": {},
   "outputs": [],
   "source": [
    "## building vocab of chars & mapping to/from integers\n",
    "\n",
    "chars = sorted(list(set(''.join(words))))\n",
    "stoi = {s:i + 1 for i,s in enumerate(chars)}\n",
    "stoi[\".\"] = 0\n",
    "itos = {i:s for s,i in stoi.items()}"
   ]
  },
  {
   "cell_type": "code",
   "execution_count": 6,
   "metadata": {},
   "outputs": [
    {
     "name": "stdout",
     "output_type": "stream",
     "text": [
      "{1: 'a', 2: 'b', 3: 'c', 4: 'd', 5: 'e', 6: 'f', 7: 'g', 8: 'h', 9: 'i', 10: 'j', 11: 'k', 12: 'l', 13: 'm', 14: 'n', 15: 'o', 16: 'p', 17: 'q', 18: 'r', 19: 's', 20: 't', 21: 'u', 22: 'v', 23: 'w', 24: 'x', 25: 'y', 26: 'z', 0: '.'}\n"
     ]
    }
   ],
   "source": [
    "print(itos)"
   ]
  },
  {
   "cell_type": "code",
   "execution_count": 20,
   "metadata": {},
   "outputs": [
    {
     "name": "stdout",
     "output_type": "stream",
     "text": [
      "emma\n",
      "... ----> e\n",
      "..e ----> m\n",
      ".em ----> m\n",
      "emm ----> a\n",
      "mma ----> .\n",
      "olivia\n",
      "... ----> o\n",
      "..o ----> l\n",
      ".ol ----> i\n",
      "oli ----> v\n",
      "liv ----> i\n",
      "ivi ----> a\n",
      "via ----> .\n",
      "ava\n",
      "... ----> a\n",
      "..a ----> v\n",
      ".av ----> a\n",
      "ava ----> .\n",
      "isabella\n",
      "... ----> i\n",
      "..i ----> s\n",
      ".is ----> a\n",
      "isa ----> b\n",
      "sab ----> e\n",
      "abe ----> l\n",
      "bel ----> l\n",
      "ell ----> a\n",
      "lla ----> .\n",
      "sophia\n",
      "... ----> s\n",
      "..s ----> o\n",
      ".so ----> p\n",
      "sop ----> h\n",
      "oph ----> i\n",
      "phi ----> a\n",
      "hia ----> .\n"
     ]
    }
   ],
   "source": [
    "## Building the data set\n",
    "\n",
    "block_size = 3 ## context length: How many chars to take to predict the next one?\n",
    "\n",
    "X, Y = [], []\n",
    "\n",
    "for w in words[0:5]:\n",
    "    print(w)\n",
    "    context = [0] * block_size # -> 1st Iter [0, 0, 0]\n",
    "    \n",
    "    for ch in w + \".\":\n",
    "\n",
    "        ix = stoi[ch] ## Encoded values of character\n",
    "        \n",
    "        X.append(context) ## 1st Iter [0, 0, 0]\n",
    "        Y.append(ix) ## 1st Iter [itos[ch]]\n",
    "\n",
    "        print(''.join(itos[i] for i in context), '---->', itos[ix])\n",
    "        context = context[1:] + [ix] ## Rolling Operation\n",
    "\n",
    "X = torch.tensor(X)\n",
    "Y = torch.tensor(Y)"
   ]
  },
  {
   "cell_type": "code",
   "execution_count": null,
   "metadata": {},
   "outputs": [],
   "source": []
  },
  {
   "cell_type": "code",
   "execution_count": 22,
   "metadata": {},
   "outputs": [
    {
     "data": {
      "text/plain": [
       "(torch.Size([32, 3]), torch.int64, torch.Size([32]), torch.int64)"
      ]
     },
     "execution_count": 22,
     "metadata": {},
     "output_type": "execute_result"
    }
   ],
   "source": [
    "X.shape, X.dtype, Y.shape, Y.dtype"
   ]
  },
  {
   "cell_type": "code",
   "execution_count": 19,
   "metadata": {},
   "outputs": [
    {
     "data": {
      "text/plain": [
       "tensor([ 5, 13, 13,  1,  0, 15, 12,  9, 22,  9,  1,  0,  1, 22,  1,  0])"
      ]
     },
     "execution_count": 19,
     "metadata": {},
     "output_type": "execute_result"
    }
   ],
   "source": [
    "Y"
   ]
  },
  {
   "cell_type": "markdown",
   "metadata": {},
   "source": [
    "## Projecting characters into 2 Dimensional Space\n",
    "\n",
    "Number of Chars: 27\n",
    "\n",
    "Dimensions: 2"
   ]
  },
  {
   "cell_type": "code",
   "execution_count": 23,
   "metadata": {},
   "outputs": [],
   "source": [
    "C = torch.randn((27, 2))"
   ]
  },
  {
   "cell_type": "markdown",
   "metadata": {},
   "source": [
    "### Accessing entries of Look-Up Matrix C"
   ]
  },
  {
   "cell_type": "code",
   "execution_count": null,
   "metadata": {},
   "outputs": [
    {
     "data": {
      "text/plain": [
       "tensor([-0.3505, -1.7075])"
      ]
     },
     "execution_count": 26,
     "metadata": {},
     "output_type": "execute_result"
    }
   ],
   "source": [
    "## For 5 encoded char \"e\"\n",
    "## itos[5]\n",
    "C[5]"
   ]
  },
  {
   "cell_type": "code",
   "execution_count": 31,
   "metadata": {},
   "outputs": [
    {
     "data": {
      "text/plain": [
       "tensor([-1.3136, -1.6273])"
      ]
     },
     "execution_count": 31,
     "metadata": {},
     "output_type": "execute_result"
    }
   ],
   "source": [
    "## For 0 encoded char \"a\"\n",
    "## itos[5]\n",
    "C[0]"
   ]
  },
  {
   "cell_type": "code",
   "execution_count": 28,
   "metadata": {},
   "outputs": [
    {
     "data": {
      "text/plain": [
       "tensor([-0.3505, -1.7075])"
      ]
     },
     "execution_count": 28,
     "metadata": {},
     "output_type": "execute_result"
    }
   ],
   "source": [
    "## Is there a better way to index Look Up Matrix?\n",
    "## Yes One Hot Encoding\n",
    "\n",
    "\n",
    "F.one_hot(torch.tensor(5), num_classes=27).float() @ C\n"
   ]
  },
  {
   "cell_type": "code",
   "execution_count": 36,
   "metadata": {},
   "outputs": [
    {
     "data": {
      "text/plain": [
       "tensor([[-0.3505, -1.7075],\n",
       "        [-1.3136, -1.6273]])"
      ]
     },
     "execution_count": 36,
     "metadata": {},
     "output_type": "execute_result"
    }
   ],
   "source": [
    "C[[5, 0]]"
   ]
  },
  {
   "cell_type": "code",
   "execution_count": 37,
   "metadata": {},
   "outputs": [
    {
     "data": {
      "text/plain": [
       "tensor([[-0.3505, -1.7075],\n",
       "        [-1.3136, -1.6273]])"
      ]
     },
     "execution_count": 37,
     "metadata": {},
     "output_type": "execute_result"
    }
   ],
   "source": [
    "C[torch.tensor([5, 0])]"
   ]
  },
  {
   "cell_type": "code",
   "execution_count": 30,
   "metadata": {},
   "outputs": [
    {
     "data": {
      "text/plain": [
       "tensor([[-0.3505, -1.7075],\n",
       "        [-1.3136, -1.6273]])"
      ]
     },
     "execution_count": 30,
     "metadata": {},
     "output_type": "execute_result"
    }
   ],
   "source": [
    "F.one_hot(torch.tensor([5, 0]), num_classes=27).float() @ C"
   ]
  },
  {
   "cell_type": "code",
   "execution_count": 38,
   "metadata": {},
   "outputs": [
    {
     "data": {
      "text/plain": [
       "tensor([[[-1.3136, -1.6273],\n",
       "         [-1.3136, -1.6273],\n",
       "         [-1.3136, -1.6273]],\n",
       "\n",
       "        [[-1.3136, -1.6273],\n",
       "         [-1.3136, -1.6273],\n",
       "         [-0.3505, -1.7075]],\n",
       "\n",
       "        [[-1.3136, -1.6273],\n",
       "         [-0.3505, -1.7075],\n",
       "         [-0.0719,  1.2150]],\n",
       "\n",
       "        [[-0.3505, -1.7075],\n",
       "         [-0.0719,  1.2150],\n",
       "         [-0.0719,  1.2150]],\n",
       "\n",
       "        [[-0.0719,  1.2150],\n",
       "         [-0.0719,  1.2150],\n",
       "         [-1.2015, -0.9261]],\n",
       "\n",
       "        [[-1.3136, -1.6273],\n",
       "         [-1.3136, -1.6273],\n",
       "         [-1.3136, -1.6273]],\n",
       "\n",
       "        [[-1.3136, -1.6273],\n",
       "         [-1.3136, -1.6273],\n",
       "         [-0.8307, -0.8465]],\n",
       "\n",
       "        [[-1.3136, -1.6273],\n",
       "         [-0.8307, -0.8465],\n",
       "         [ 1.2490,  0.0284]],\n",
       "\n",
       "        [[-0.8307, -0.8465],\n",
       "         [ 1.2490,  0.0284],\n",
       "         [-0.2628,  0.8860]],\n",
       "\n",
       "        [[ 1.2490,  0.0284],\n",
       "         [-0.2628,  0.8860],\n",
       "         [-0.7497, -1.1101]],\n",
       "\n",
       "        [[-0.2628,  0.8860],\n",
       "         [-0.7497, -1.1101],\n",
       "         [-0.2628,  0.8860]],\n",
       "\n",
       "        [[-0.7497, -1.1101],\n",
       "         [-0.2628,  0.8860],\n",
       "         [-1.2015, -0.9261]],\n",
       "\n",
       "        [[-1.3136, -1.6273],\n",
       "         [-1.3136, -1.6273],\n",
       "         [-1.3136, -1.6273]],\n",
       "\n",
       "        [[-1.3136, -1.6273],\n",
       "         [-1.3136, -1.6273],\n",
       "         [-1.2015, -0.9261]],\n",
       "\n",
       "        [[-1.3136, -1.6273],\n",
       "         [-1.2015, -0.9261],\n",
       "         [-0.7497, -1.1101]],\n",
       "\n",
       "        [[-1.2015, -0.9261],\n",
       "         [-0.7497, -1.1101],\n",
       "         [-1.2015, -0.9261]],\n",
       "\n",
       "        [[-1.3136, -1.6273],\n",
       "         [-1.3136, -1.6273],\n",
       "         [-1.3136, -1.6273]],\n",
       "\n",
       "        [[-1.3136, -1.6273],\n",
       "         [-1.3136, -1.6273],\n",
       "         [-0.2628,  0.8860]],\n",
       "\n",
       "        [[-1.3136, -1.6273],\n",
       "         [-0.2628,  0.8860],\n",
       "         [ 0.4909,  0.8189]],\n",
       "\n",
       "        [[-0.2628,  0.8860],\n",
       "         [ 0.4909,  0.8189],\n",
       "         [-1.2015, -0.9261]],\n",
       "\n",
       "        [[ 0.4909,  0.8189],\n",
       "         [-1.2015, -0.9261],\n",
       "         [ 0.1898,  1.7413]],\n",
       "\n",
       "        [[-1.2015, -0.9261],\n",
       "         [ 0.1898,  1.7413],\n",
       "         [-0.3505, -1.7075]],\n",
       "\n",
       "        [[ 0.1898,  1.7413],\n",
       "         [-0.3505, -1.7075],\n",
       "         [ 1.2490,  0.0284]],\n",
       "\n",
       "        [[-0.3505, -1.7075],\n",
       "         [ 1.2490,  0.0284],\n",
       "         [ 1.2490,  0.0284]],\n",
       "\n",
       "        [[ 1.2490,  0.0284],\n",
       "         [ 1.2490,  0.0284],\n",
       "         [-1.2015, -0.9261]],\n",
       "\n",
       "        [[-1.3136, -1.6273],\n",
       "         [-1.3136, -1.6273],\n",
       "         [-1.3136, -1.6273]],\n",
       "\n",
       "        [[-1.3136, -1.6273],\n",
       "         [-1.3136, -1.6273],\n",
       "         [ 0.4909,  0.8189]],\n",
       "\n",
       "        [[-1.3136, -1.6273],\n",
       "         [ 0.4909,  0.8189],\n",
       "         [-0.8307, -0.8465]],\n",
       "\n",
       "        [[ 0.4909,  0.8189],\n",
       "         [-0.8307, -0.8465],\n",
       "         [-1.4649,  1.2527]],\n",
       "\n",
       "        [[-0.8307, -0.8465],\n",
       "         [-1.4649,  1.2527],\n",
       "         [ 0.3397,  0.2428]],\n",
       "\n",
       "        [[-1.4649,  1.2527],\n",
       "         [ 0.3397,  0.2428],\n",
       "         [-0.2628,  0.8860]],\n",
       "\n",
       "        [[ 0.3397,  0.2428],\n",
       "         [-0.2628,  0.8860],\n",
       "         [-1.2015, -0.9261]]])"
      ]
     },
     "execution_count": 38,
     "metadata": {},
     "output_type": "execute_result"
    }
   ],
   "source": [
    "C[X]"
   ]
  },
  {
   "cell_type": "code",
   "execution_count": null,
   "metadata": {},
   "outputs": [],
   "source": []
  }
 ],
 "metadata": {
  "kernelspec": {
   "display_name": ".venv",
   "language": "python",
   "name": "python3"
  },
  "language_info": {
   "codemirror_mode": {
    "name": "ipython",
    "version": 3
   },
   "file_extension": ".py",
   "mimetype": "text/x-python",
   "name": "python",
   "nbconvert_exporter": "python",
   "pygments_lexer": "ipython3",
   "version": "3.13.1"
  }
 },
 "nbformat": 4,
 "nbformat_minor": 2
}
